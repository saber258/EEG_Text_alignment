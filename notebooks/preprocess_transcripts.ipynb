{
 "cells": [
  {
   "cell_type": "code",
   "execution_count": 1,
   "id": "2eb58cbd-b242-452a-b433-1080efcf6730",
   "metadata": {},
   "outputs": [],
   "source": [
    "import pandas as pd\n",
    "import os"
   ]
  },
  {
   "cell_type": "code",
   "execution_count": 3,
   "id": "5af6fa21-60d4-40b2-9dcd-f91a61a39781",
   "metadata": {},
   "outputs": [
    {
     "name": "stdout",
     "output_type": "stream",
     "text": [
      "\u001b[34mR\u001b[m\u001b[m                   \u001b[34mjson\u001b[m\u001b[m                \u001b[34mnot_in_use\u001b[m\u001b[m          \u001b[34mtranscripts_csv_3\u001b[m\u001b[m\n",
      "README.md           \u001b[34mmetadata\u001b[m\u001b[m            \u001b[34mnotebooks\u001b[m\u001b[m\n",
      "\u001b[34mconcat_p\u001b[m\u001b[m            \u001b[34mneurosky_polar_data\u001b[m\u001b[m \u001b[34msep_transcripts\u001b[m\u001b[m\n",
      "\u001b[34memotion_annotations\u001b[m\u001b[m \u001b[34mnew_eeg\u001b[m\u001b[m             \u001b[34mtest.csvs\u001b[m\u001b[m\n"
     ]
    }
   ],
   "source": [
    "!ls"
   ]
  },
  {
   "cell_type": "code",
   "execution_count": 159,
   "id": "422c7a1e-02eb-4a85-a0e1-fe0210b90767",
   "metadata": {},
   "outputs": [
    {
     "ename": "ValueError",
     "evalue": "The truth value of a DataFrame is ambiguous. Use a.empty, a.bool(), a.item(), a.any() or a.all().",
     "output_type": "error",
     "traceback": [
      "\u001b[0;31m---------------------------------------------------------------------------\u001b[0m",
      "\u001b[0;31mValueError\u001b[0m                                Traceback (most recent call last)",
      "\u001b[0;32m/var/folders/70/s03t_xm53wq9db1vxd6l5d8c0000gn/T/ipykernel_79092/1582062595.py\u001b[0m in \u001b[0;36m<module>\u001b[0;34m\u001b[0m\n\u001b[1;32m     44\u001b[0m                         \u001b[0;32mwhile\u001b[0m \u001b[0;34m(\u001b[0m\u001b[0mcheck\u001b[0m \u001b[0;34m>\u001b[0m \u001b[0mstart\u001b[0m\u001b[0;34m)\u001b[0m\u001b[0;34m:\u001b[0m\u001b[0;34m\u001b[0m\u001b[0;34m\u001b[0m\u001b[0m\n\u001b[1;32m     45\u001b[0m                             \u001b[0;31m#if (id == idmin):\u001b[0m\u001b[0;34m\u001b[0m\u001b[0;34m\u001b[0m\u001b[0m\n\u001b[0;32m---> 46\u001b[0;31m                             \u001b[0;32mif\u001b[0m \u001b[0mread\u001b[0m\u001b[0;34m[\u001b[0m\u001b[0;34m(\u001b[0m\u001b[0mread\u001b[0m\u001b[0;34m[\u001b[0m\u001b[0;34m'results/channelTag'\u001b[0m\u001b[0;34m]\u001b[0m \u001b[0;34m==\u001b[0m \u001b[0midmin\u001b[0m\u001b[0;34m)\u001b[0m\u001b[0;34m]\u001b[0m\u001b[0;34m:\u001b[0m\u001b[0;34m\u001b[0m\u001b[0;34m\u001b[0m\u001b[0m\n\u001b[0m\u001b[1;32m     47\u001b[0m                                 \u001b[0mprint\u001b[0m\u001b[0;34m(\u001b[0m\u001b[0mtime\u001b[0m\u001b[0;34m)\u001b[0m\u001b[0;34m\u001b[0m\u001b[0;34m\u001b[0m\u001b[0m\n\u001b[1;32m     48\u001b[0m                             \u001b[0;32mbreak\u001b[0m\u001b[0;34m\u001b[0m\u001b[0;34m\u001b[0m\u001b[0m\n",
      "\u001b[0;32m~/opt/anaconda3/lib/python3.9/site-packages/pandas/core/generic.py\u001b[0m in \u001b[0;36m__nonzero__\u001b[0;34m(self)\u001b[0m\n\u001b[1;32m   1535\u001b[0m     \u001b[0;34m@\u001b[0m\u001b[0mfinal\u001b[0m\u001b[0;34m\u001b[0m\u001b[0;34m\u001b[0m\u001b[0m\n\u001b[1;32m   1536\u001b[0m     \u001b[0;32mdef\u001b[0m \u001b[0m__nonzero__\u001b[0m\u001b[0;34m(\u001b[0m\u001b[0mself\u001b[0m\u001b[0;34m)\u001b[0m\u001b[0;34m:\u001b[0m\u001b[0;34m\u001b[0m\u001b[0;34m\u001b[0m\u001b[0m\n\u001b[0;32m-> 1537\u001b[0;31m         raise ValueError(\n\u001b[0m\u001b[1;32m   1538\u001b[0m             \u001b[0;34mf\"The truth value of a {type(self).__name__} is ambiguous. \"\u001b[0m\u001b[0;34m\u001b[0m\u001b[0;34m\u001b[0m\u001b[0m\n\u001b[1;32m   1539\u001b[0m             \u001b[0;34m\"Use a.empty, a.bool(), a.item(), a.any() or a.all().\"\u001b[0m\u001b[0;34m\u001b[0m\u001b[0;34m\u001b[0m\u001b[0m\n",
      "\u001b[0;31mValueError\u001b[0m: The truth value of a DataFrame is ambiguous. Use a.empty, a.bool(), a.item(), a.any() or a.all()."
     ]
    }
   ],
   "source": [
    "for tran in sorted(os.listdir('transcripts_csv_3')):\n",
    "    #print(tran)\n",
    "    if '.csv' in tran:\n",
    "        os.chdir('transcripts_csv_3')\n",
    "        read = pd.read_csv(tran)\n",
    "        os.chdir('../')\n",
    "        #print(read)\n",
    "        time = read['reult/alternative/0/word/0/tartTime']\n",
    "        read[\"results/channelTag\"] = pd.to_numeric(read[\"results/channelTag\"], errors='coerce')\n",
    "        id = read['results/channelTag']\n",
    "        idmax = id.max()\n",
    "        idmin=id.min()\n",
    "        \n",
    "        \n",
    "        for p in sorted(os.listdir('concat_p')):\n",
    "            if '.csv' in p:\n",
    "                #print(p)\n",
    "                os.chdir('concat_p')\n",
    "                read1 = pd.read_csv(p)\n",
    "                os.chdir('../')\n",
    "                fir_p = read1.iloc[:, 0:23]\n",
    "                sec_p = read1.iloc[:, 23:]\n",
    "                time1 = read1.iloc[:, 0]\n",
    "                time2 = read1.iloc[:,23]\n",
    "                fir_p_df = pd.DataFrame(fir_p)\n",
    "                sec_p_df = pd.DataFrame(sec_p)\n",
    "                \n",
    "                #print(fir_p_df.loc[0,:])\n",
    "                #print(time1[0])\n",
    "                #print(time2[1])\n",
    "                            \n",
    "                #print(fir_p)\n",
    "                #print(sec_p)\n",
    "                #break\n",
    "                \n",
    "                for i in range(0, len(read)-1):\n",
    "                    start = time[i]\n",
    "                    check = time[i+1]\n",
    "                    #print(start)\n",
    "                    #print(check)\n",
    "                    for j in read1:\n",
    "                        #print(time1)\n",
    "                        \n",
    "                        while (check > start):\n",
    "                            #if (id == idmin):\n",
    "     \n",
    "                                print(time)\n",
    "                            break\n",
    "                        break\n",
    "                    break\n",
    "                break\n",
    "                \n",
    "                \n",
    "                \n",
    "#                 for t in range(0, len(time)-1):\n",
    "#                     #print(t)\n",
    "#                     start = time[t]\n",
    "#                     check = time[t+1]\n",
    "\n",
    "#                     #print(check)\n",
    "#                     #break\n",
    "\n",
    "\n",
    "#                     for t1 in time1:\n",
    "                        \n",
    "#                         if (check < start) and (id == idmin).any():\n",
    "\n",
    "#                             print(time[0])\n",
    "                            \n",
    "#                         elif (check < start) and (id == idmax).any():\n",
    "#                             print(time[1])\n",
    "                            \n",
    "#                         else:\n",
    "#                             break\n",
    "\n",
    "                        #print(t1)\n",
    "                        #p1t1 = t1\n",
    "                        #if (id ==idmin).any() and (t1 < start):\n",
    "                            \n",
    "                            #print(t1)\n",
    "                            #break\n",
    "                \n",
    "        break"
   ]
  },
  {
   "cell_type": "code",
   "execution_count": null,
   "id": "d753f074-98bc-4267-8a5d-c5369a5cf6bd",
   "metadata": {},
   "outputs": [],
   "source": []
  }
 ],
 "metadata": {
  "kernelspec": {
   "display_name": "Python 3 (ipykernel)",
   "language": "python",
   "name": "python3"
  },
  "language_info": {
   "codemirror_mode": {
    "name": "ipython",
    "version": 3
   },
   "file_extension": ".py",
   "mimetype": "text/x-python",
   "name": "python",
   "nbconvert_exporter": "python",
   "pygments_lexer": "ipython3",
   "version": "3.9.7"
  }
 },
 "nbformat": 4,
 "nbformat_minor": 5
}
