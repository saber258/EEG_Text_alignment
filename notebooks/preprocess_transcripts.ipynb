{
 "cells": [
  {
   "cell_type": "code",
   "execution_count": 1,
   "id": "2eb58cbd-b242-452a-b433-1080efcf6730",
   "metadata": {},
   "outputs": [],
   "source": [
    "import pandas as pd\n",
    "import os"
   ]
  },
  {
   "cell_type": "code",
   "execution_count": 2,
   "id": "5af6fa21-60d4-40b2-9dcd-f91a61a39781",
   "metadata": {},
   "outputs": [
    {
     "name": "stdout",
     "output_type": "stream",
     "text": [
      "Word_Embeddings.ipynb        preprocess_transcripts.ipynb\n",
      "preprocess_csv.ipynb         word_embeddings_1.ipynb\n",
      "preprocess_eeg.ipynb\n"
     ]
    }
   ],
   "source": [
    "!ls"
   ]
  },
  {
   "cell_type": "code",
   "execution_count": 3,
   "id": "3728e0f2-876b-4bd6-bd9f-047bb8b3369d",
   "metadata": {},
   "outputs": [],
   "source": [
    "os.chdir('../')"
   ]
  },
  {
   "cell_type": "code",
   "execution_count": null,
   "id": "a109297c-77b0-403b-888a-f8d470a79c2d",
   "metadata": {
    "tags": []
   },
   "outputs": [],
   "source": [
    "def return_index(count, csv):\n",
    "    for i in range(count, len(brain)):\n",
    "        return i\n",
    "        break\n",
    "    for j in range(count, len(subjects)):\n",
    "        return j\n",
    "        break\n",
    "    for k in range(count,len(emotion)):\n",
    "        return k\n",
    "        break\n",
    "    if csv == 'i':\n",
    "        return i\n",
    "    if csv == 'j':\n",
    "        return j\n",
    "    if csv == 'k':\n",
    "        return k\n",
    "    \n",
    "    \n",
    "def return_col_len(csv):\n",
    "    col_len = len(csv.columns)\n",
    "    return col_len\n",
    "\n",
    "def start_time(brain, debate_start):\n",
    "    for i in range(0, len(brain)):\n",
    "        if brain.timestamp[i] >= debate_start:\n",
    "            return i\n",
    "        \n",
    "def return_column_len(emotion, count):\n",
    "    for i in range(count,len(emotion.columns)):\n",
    "        return i\n",
    "    \n",
    "def read_emotion(path_to_file, count_file):\n",
    "    for p in sorted(os.listdir(path_to_file)):\n",
    "        if '.csv' in p:\n",
    "            os.chdir(path_to_file)\n",
    "            emotion = pd.read_csv(p)\n",
    "            os.chdir('../../')\n",
    "            \n",
    "    return emotion\n",
    "        \n",
    "            "
   ]
  },
  {
   "cell_type": "code",
   "execution_count": null,
   "id": "f9d56c2f-9660-44b5-9e94-49e1580fb2fa",
   "metadata": {
    "tags": []
   },
   "outputs": [],
   "source": [
    "csv_num=1\n",
    "count = 0\n",
    "os.chdir('metadata')\n",
    "subjects = pd.read_excel('subjects os.listdir.xlsx') \n",
    "\n",
    "#subjects csv: initTime - time when data collection started\n",
    "#startTime - time when debate started \n",
    "#endTime - time when debate ended\n",
    "\n",
    "startTime = subjects['startTime']   #debate startTime\n",
    "endTime = subjects['endTime'] #debate endTime\n",
    "os.chdir('../')\n",
    "\n",
    "for p in sorted(os.listdir('emotion_annotations/self_annotations')):   #emotion annotations for each subject\n",
    "    if '.csv' in p:\n",
    "    \n",
    "        os.chdir('emotion_annotations/self_annotations')\n",
    "        emotion = pd.read_csv(p)   #read annotation csv\n",
    "        os.chdir('../../')\n",
    "        #print(emotion)\n",
    "        \n",
    "        for eeg in sorted(os.listdir('new_eeg')):    #eeg readings for each subject\n",
    "            if '.csv' in eeg:\n",
    "            \n",
    "                os.chdir('new_eeg')\n",
    "                brain = pd.read_csv(eeg)     #read eeg csv\n",
    "                \n",
    "                brain['seconds'] = ''\n",
    "                brain['arousal'] = ''\n",
    "                brain['valence'] = ''\n",
    "                brain['cheerful'] = ''\n",
    "                brain['happy'] = ''\n",
    "                brain['angry'] = ''\n",
    "                brain['nervous'] = ''\n",
    "                brain['sad'] = ''\n",
    "                brain['boredom'] = ''\n",
    "                brain['confusion'] = ''\n",
    "                brain['delight'] = ''\n",
    "                brain['concentration'] = ''\n",
    "                brain['frustration'] = ''\n",
    "                brain['surpise'] = ''\n",
    "                brain['none_1'] = ''\n",
    "                brain['confrustion'] = ''\n",
    "                brain['contempt'] = ''\n",
    "                brain['dejection'] = ''\n",
    "                brain['disgust'] = ''\n",
    "                brain['eureka'] = ''\n",
    "                brain['pride'] = ''\n",
    "                brain['sorrow'] = ''\n",
    "                brain['none_2'] = ''\n",
    "                os.chdir('../')\n",
    "                #print(brain)\n",
    "                '''\n",
    "                \n",
    "                important variables:\n",
    "                \n",
    "                timestamp in brain --> time intervals eeg recording starts\n",
    "                new_trans_time --> compounding time intervals (in seconds) \n",
    "                startTime --> time when debate starts\n",
    "                seconds in annot --> time intervals of when participant recorded their emotions\n",
    "                \n",
    "                \n",
    "                I want to\n",
    "                \n",
    "                \n",
    "                1. at timestamp >= startTime (since this is when the debate starts)\n",
    "                    a. if new_trans_time <= seconds (annot) --> concatenate emotion annotations for the corresponding seconds\n",
    "                    b. else move on to the next seconds interval (annot)\n",
    "                \n",
    "                '''\n",
    "                \n",
    "                counter = 0\n",
    "                \n",
    "                \n",
    "                debate_start = subjects.startTime[0]\n",
    "                \n",
    "                #print(debate_start)\n",
    "                \n",
    "                index = start_time(brain, debate_start) # index where debate starts\n",
    "                \n",
    "                #print(index)\n",
    "                \n",
    "                start = index\n",
    "                \n",
    "                for i in range(index, len(brain)):\n",
    "                    \n",
    "                    #print(brain.new_trans_time[i], (emotion.seconds[counter] + brain.new_trans_time[start]))\n",
    "                    #brain_time = brain.new_trans_time[i]\n",
    "            \n",
    "                    if (brain.new_trans_time[i] >= (emotion.seconds[counter] + brain.new_trans_time[start])):\n",
    "                    \n",
    "                        #print(brain.new_trans_time[i], (emotion.seconds[counter] + brain.new_trans_time[start]))\n",
    "                        \n",
    "                        counter +=1\n",
    "                        start += 1\n",
    "                        \n",
    "                    brain.iloc[i, 14:] = emotion.iloc[counter]\n",
    "                    \n",
    "                brain_new = pd.DataFrame(brain)\n",
    "                    \n",
    "                    \n",
    "                    \n",
    "                    \n",
    "\n",
    "                os.chdir('eeg_emotion_csvs')\n",
    "                brain_new.to_csv(f'p{csv_num}a.csv', sep=',', index=False)\n",
    "                os.chdir('../')\n",
    "                count +=1\n",
    "                break\n",
    "            \n",
    "\n",
    "                \n",
    "\n",
    " \n",
    "                    \n",
    "                    "
   ]
  },
  {
   "cell_type": "code",
   "execution_count": null,
   "id": "c1e56870-0da3-49b6-b3a5-dcd8ea182653",
   "metadata": {},
   "outputs": [],
   "source": []
  },
  {
   "cell_type": "code",
   "execution_count": null,
   "id": "d2281abc-5db8-4350-8a81-0af8e50f179d",
   "metadata": {},
   "outputs": [],
   "source": [
    "csv_num = 32\n",
    "\n",
    "df = pd.read_csv(f'eeg_emotion_csvs/p{csv_num}.csv')\n",
    "df = df[df['seconds'].notna()]\n",
    "os.chdir('dropped_eeg_emotion')\n",
    "df.to_csv(f'p{csv_num}_eeg_emotion.csv', sep=',', index=False)\n",
    "os.chdir('../')\n"
   ]
  },
  {
   "cell_type": "code",
   "execution_count": null,
   "id": "447e44a8-df35-4c23-9b09-f1fc2a710efc",
   "metadata": {
    "tags": []
   },
   "outputs": [],
   "source": [
    "#preprocess eeg and emotion\n",
    "\n",
    "\n",
    "\n",
    "csv_num=32\n",
    "#start_time_index = 0\n",
    "count = 0\n",
    "# os.chdir('metadata')\n",
    "# subjects = pd.read_excel('subjects os.listdir.xlsx') \n",
    "\n",
    "#subjects csv: initTime - time when data collection started\n",
    "#startTime - time when debate started \n",
    "#endTime - time when debate ended\n",
    "\n",
    "# startTime = subjects['startTime']   #debate startTime\n",
    "# endTime = subjects['endTime'] #debate endTime\n",
    "# os.chdir('../')\n",
    "\n",
    "\n",
    "\n",
    "\n",
    "\n",
    "emotion = pd.read_csv(f'averaged_emotions/p{csv_num}.csv')   #read annotation csv\n",
    "\n",
    "#print(emotion)\n",
    "\n",
    "#debate_start = subjects.startTime[start_time_index]\n",
    "\n",
    "\n",
    "\n",
    "brain = pd.read_csv(f'dropped_eeg_emotion/p{csv_num}_eeg_emotion.csv')     #read eeg csv\n",
    "brain = brain.iloc[:, 0:14]\n",
    "\n",
    "\n",
    "brain['seconds'] = ''\n",
    "brain['arousal'] = ''\n",
    "brain['valence'] = ''\n",
    "brain['happy'] = ''\n",
    "brain['angry'] = ''\n",
    "brain['nervous'] = ''\n",
    "brain['sad'] = ''\n",
    "\n",
    "#print(brain)\n",
    "'''\n",
    "\n",
    "important variables:\n",
    "\n",
    "timestamp in brain --> time intervals eeg recording starts\n",
    "new_trans_time --> compounding time intervals (in seconds) \n",
    "startTime --> time when debate starts\n",
    "seconds in annot --> time intervals of when participant recorded their emotions\n",
    "\n",
    "\n",
    "I want to\n",
    "\n",
    "\n",
    "1. at timestamp >= startTime (since this is when the debate starts)\n",
    "    a. if new_trans_time <= seconds (annot) --> concatenate emotion annotations for the corresponding seconds\n",
    "    b. else move on to the next seconds interval (annot)\n",
    "\n",
    "'''\n",
    "\n",
    "counter = 0\n",
    "\n",
    "\n",
    "\n",
    "#print(debate_start)\n",
    "\n",
    "index = 0 # index where debate starts\n",
    "\n",
    "#print(index)\n",
    "\n",
    "start = 0\n",
    "#print(index)\n",
    "for i in range(index, len(brain)):\n",
    "\n",
    "    #print(brain.new_trans_time[i], (emotion.seconds[counter] + brain.new_trans_time[start]))\n",
    "    #brain_time = brain.new_trans_time[i]\n",
    "\n",
    "    if (brain.new_trans_time[i] >= (emotion.seconds[counter] + brain.new_trans_time[start])):\n",
    "\n",
    "        #print(brain.new_trans_time[i], (emotion.seconds[counter] + brain.new_trans_time[start]))\n",
    "\n",
    "        counter +=1\n",
    "        start += 1\n",
    "\n",
    "    brain.iloc[i, 14:] = emotion.iloc[counter]\n",
    "\n",
    "brain_new = pd.DataFrame(brain)\n",
    "\n",
    "\n",
    "\n",
    "\n",
    "\n",
    "os.chdir('eeg_emotion_new')\n",
    "brain_new.to_csv(f'p{csv_num}_eeg.csv', sep=',', index=False)\n",
    "os.chdir('../')\n",
    "\n",
    "\n",
    "\n",
    "\n",
    "\n",
    "\n",
    "\n",
    "\n"
   ]
  },
  {
   "cell_type": "code",
   "execution_count": null,
   "id": "dab14006-241f-4e4a-958c-1ebf37b7440d",
   "metadata": {
    "tags": []
   },
   "outputs": [],
   "source": [
    "#preprocess emotion and transcripts\n",
    "\n",
    "\n",
    "first = 31\n",
    "second =32\n",
    "\n",
    "emotion1 = pd.read_csv(f'averaged_emotions/p{first}.csv')   #read annotation csv\n",
    "emotion2= pd.read_csv(f'averaged_emotions/p{second}.csv')\n",
    "\n",
    "#print(emotion)\n",
    "\n",
    "\n",
    "\n",
    "transcript = pd.read_csv(f'transcripts_csv_3/best pred/p{first}.p{second}.m4a.csv')     #read eeg csv\n",
    "transcript.rename(columns = {'reult/alternative/0/word/0/tartTime' : 'startTime'}, inplace = True)\n",
    "\n",
    "transcript[f'p{first}'] = ''\n",
    "transcript['seconds'] = ''\n",
    "transcript['arousal'] = ''\n",
    "transcript['valence'] = ''\n",
    "transcript['happy'] = ''\n",
    "transcript['angry'] = ''\n",
    "transcript['nervous'] = ''\n",
    "transcript['sad'] = ''\n",
    "\n",
    "transcript[f'p{second}'] = ''\n",
    "transcript['seconds2'] = ''\n",
    "transcript['arousal2'] = ''\n",
    "transcript['valence2'] = ''\n",
    "transcript['happy2'] = ''\n",
    "transcript['angry2'] = ''\n",
    "transcript['nervous2'] = ''\n",
    "transcript['sad2'] = ''\n",
    "\n",
    "\n",
    "#print(transcript)\n",
    "\n",
    "\n",
    "\n",
    "\n",
    "counter = 0\n",
    "\n",
    "\n",
    "# fir_p = emotion1\n",
    "# fir_p = pd.DataFrame(fir_p)\n",
    "# #print(fir_p)\n",
    "\n",
    "# sec_p = emotion.iloc[:,23:]\n",
    "# sec_p = pd.DataFrame(sec_p)\n",
    "# sec_p.rename(columns = {'seconds.1' : 'seconds2'}, inplace = True)\n",
    "# #print(sec_p)\n",
    "\n",
    "\n",
    "start = 0\n",
    "\n",
    "for i in range(0, len(transcript)):\n",
    "\n",
    "    if (transcript.startTime[i] >= (emotion1.seconds[counter] + transcript.startTime[start])):\n",
    "\n",
    "        #print(brain.new_trans_time[i], (emotion.seconds[counter] + brain.new_trans_time[start]))\n",
    "\n",
    "        counter +=1\n",
    "        start += 1\n",
    "\n",
    "    transcript.iloc[i, 10:17] = emotion1.iloc[counter]\n",
    "\n",
    "\n",
    "start = 0\n",
    "counter = 0\n",
    "for j in range(0, len(transcript)):\n",
    "\n",
    "    if ((transcript.startTime[j] >= (emotion2.seconds[counter] + transcript.startTime[start]))):\n",
    "\n",
    "        #print(brain.new_trans_time[i], (emotion.seconds[counter] + brain.new_trans_time[start]))\n",
    "\n",
    "        counter +=1\n",
    "        start += 1\n",
    "\n",
    "    transcript.iloc[j, 18:25] = emotion2.iloc[counter]\n",
    "\n",
    "\n",
    "transcript_new = pd.DataFrame(transcript)\n",
    "\n",
    "\n",
    "\n",
    "\n",
    "\n",
    "os.chdir('newest_transcript')\n",
    "transcript_new.to_csv(f'p{first}.p{second}.csv', sep=',', index=False)\n",
    "os.chdir('../')\n",
    "\n",
    "\n",
    "\n",
    "\n",
    "\n",
    "\n",
    "\n",
    "\n"
   ]
  },
  {
   "cell_type": "code",
   "execution_count": null,
   "id": "bd25c707-4828-48fa-b27b-2db554592ce6",
   "metadata": {},
   "outputs": [],
   "source": [
    "# first = 31\n",
    "# second = 32\n",
    "num = 32\n",
    "\n",
    "# df = pd.read_csv(f'transcript_emotion_6class/p{first}.p{second}.csv')\n",
    "df2 = pd.read_csv(f'eeg_emotion_6class/p{num}_eeg.csv')\n",
    "\n",
    "# df0 = df.iloc[:, 0:13]\n",
    "# df1 = df.iloc[:, 17:21]\n",
    "# # print(df)\n",
    "# # print(df1)\n",
    "# df = pd.concat([df0, df1], axis=1)\n",
    "\n",
    "# os.chdir('binary_class_transcript')\n",
    "# df.to_csv(f'p{first}.p{second}.transcript.csv', sep=',', index=False)\n",
    "# os.chdir('../')\n",
    "\n",
    "df2 = df.iloc[:, 0:17]\n",
    "os.chdir('binary_class_eeg')\n",
    "df.to_csv(f'p{num}.eeg.csv', sep=',', index = False)\n",
    "os.chdir('../')"
   ]
  },
  {
   "cell_type": "code",
   "execution_count": null,
   "id": "4e954642-cfaf-460d-b744-42a5b8e328aa",
   "metadata": {},
   "outputs": [],
   "source": [
    "pd.set_option('display.max_colwidth', None)"
   ]
  },
  {
   "cell_type": "code",
   "execution_count": null,
   "id": "3f9a92dc-961e-47fa-ba6d-91086e1c7bfa",
   "metadata": {},
   "outputs": [],
   "source": [
    "pd.set_option('display.max_columns', None)  "
   ]
  },
  {
   "cell_type": "code",
   "execution_count": 5,
   "id": "8874a6ff-88f6-4186-82f4-e5d83309b630",
   "metadata": {},
   "outputs": [
    {
     "ename": "FileNotFoundError",
     "evalue": "[Errno 2] No such file or directory: 'emotion_annotations/partner_annotations/P1.partner.csv'",
     "output_type": "error",
     "traceback": [
      "\u001b[0;31m---------------------------------------------------------------------------\u001b[0m",
      "\u001b[0;31mFileNotFoundError\u001b[0m                         Traceback (most recent call last)",
      "\u001b[0;32m/var/folders/70/s03t_xm53wq9db1vxd6l5d8c0000gn/T/ipykernel_68407/1517286297.py\u001b[0m in \u001b[0;36m<module>\u001b[0;34m\u001b[0m\n\u001b[0;32m----> 1\u001b[0;31m \u001b[0mdf1\u001b[0m \u001b[0;34m=\u001b[0m \u001b[0mpd\u001b[0m\u001b[0;34m.\u001b[0m\u001b[0mread_csv\u001b[0m\u001b[0;34m(\u001b[0m\u001b[0;34m'emotion_annotations/partner_annotations/P1.partner.csv'\u001b[0m\u001b[0;34m)\u001b[0m\u001b[0;34m\u001b[0m\u001b[0;34m\u001b[0m\u001b[0m\n\u001b[0m\u001b[1;32m      2\u001b[0m \u001b[0mdf2\u001b[0m \u001b[0;34m=\u001b[0m \u001b[0mpd\u001b[0m\u001b[0;34m.\u001b[0m\u001b[0mread_csv\u001b[0m\u001b[0;34m(\u001b[0m\u001b[0;34m'emotion_annotations/self_annotations/P1.self.csv'\u001b[0m\u001b[0;34m)\u001b[0m\u001b[0;34m\u001b[0m\u001b[0;34m\u001b[0m\u001b[0m\n\u001b[1;32m      3\u001b[0m \u001b[0mdf3\u001b[0m \u001b[0;34m=\u001b[0m \u001b[0mpd\u001b[0m\u001b[0;34m.\u001b[0m\u001b[0mread_csv\u001b[0m\u001b[0;34m(\u001b[0m\u001b[0;34m'emotion_annotations/aggregated_external_annotations/P1.external.csv'\u001b[0m\u001b[0;34m)\u001b[0m\u001b[0;34m\u001b[0m\u001b[0;34m\u001b[0m\u001b[0m\n",
      "\u001b[0;32m~/opt/anaconda3/lib/python3.9/site-packages/pandas/util/_decorators.py\u001b[0m in \u001b[0;36mwrapper\u001b[0;34m(*args, **kwargs)\u001b[0m\n\u001b[1;32m    309\u001b[0m                     \u001b[0mstacklevel\u001b[0m\u001b[0;34m=\u001b[0m\u001b[0mstacklevel\u001b[0m\u001b[0;34m,\u001b[0m\u001b[0;34m\u001b[0m\u001b[0;34m\u001b[0m\u001b[0m\n\u001b[1;32m    310\u001b[0m                 )\n\u001b[0;32m--> 311\u001b[0;31m             \u001b[0;32mreturn\u001b[0m \u001b[0mfunc\u001b[0m\u001b[0;34m(\u001b[0m\u001b[0;34m*\u001b[0m\u001b[0margs\u001b[0m\u001b[0;34m,\u001b[0m \u001b[0;34m**\u001b[0m\u001b[0mkwargs\u001b[0m\u001b[0;34m)\u001b[0m\u001b[0;34m\u001b[0m\u001b[0;34m\u001b[0m\u001b[0m\n\u001b[0m\u001b[1;32m    312\u001b[0m \u001b[0;34m\u001b[0m\u001b[0m\n\u001b[1;32m    313\u001b[0m         \u001b[0;32mreturn\u001b[0m \u001b[0mwrapper\u001b[0m\u001b[0;34m\u001b[0m\u001b[0;34m\u001b[0m\u001b[0m\n",
      "\u001b[0;32m~/opt/anaconda3/lib/python3.9/site-packages/pandas/io/parsers/readers.py\u001b[0m in \u001b[0;36mread_csv\u001b[0;34m(filepath_or_buffer, sep, delimiter, header, names, index_col, usecols, squeeze, prefix, mangle_dupe_cols, dtype, engine, converters, true_values, false_values, skipinitialspace, skiprows, skipfooter, nrows, na_values, keep_default_na, na_filter, verbose, skip_blank_lines, parse_dates, infer_datetime_format, keep_date_col, date_parser, dayfirst, cache_dates, iterator, chunksize, compression, thousands, decimal, lineterminator, quotechar, quoting, doublequote, escapechar, comment, encoding, encoding_errors, dialect, error_bad_lines, warn_bad_lines, on_bad_lines, delim_whitespace, low_memory, memory_map, float_precision, storage_options)\u001b[0m\n\u001b[1;32m    584\u001b[0m     \u001b[0mkwds\u001b[0m\u001b[0;34m.\u001b[0m\u001b[0mupdate\u001b[0m\u001b[0;34m(\u001b[0m\u001b[0mkwds_defaults\u001b[0m\u001b[0;34m)\u001b[0m\u001b[0;34m\u001b[0m\u001b[0;34m\u001b[0m\u001b[0m\n\u001b[1;32m    585\u001b[0m \u001b[0;34m\u001b[0m\u001b[0m\n\u001b[0;32m--> 586\u001b[0;31m     \u001b[0;32mreturn\u001b[0m \u001b[0m_read\u001b[0m\u001b[0;34m(\u001b[0m\u001b[0mfilepath_or_buffer\u001b[0m\u001b[0;34m,\u001b[0m \u001b[0mkwds\u001b[0m\u001b[0;34m)\u001b[0m\u001b[0;34m\u001b[0m\u001b[0;34m\u001b[0m\u001b[0m\n\u001b[0m\u001b[1;32m    587\u001b[0m \u001b[0;34m\u001b[0m\u001b[0m\n\u001b[1;32m    588\u001b[0m \u001b[0;34m\u001b[0m\u001b[0m\n",
      "\u001b[0;32m~/opt/anaconda3/lib/python3.9/site-packages/pandas/io/parsers/readers.py\u001b[0m in \u001b[0;36m_read\u001b[0;34m(filepath_or_buffer, kwds)\u001b[0m\n\u001b[1;32m    480\u001b[0m \u001b[0;34m\u001b[0m\u001b[0m\n\u001b[1;32m    481\u001b[0m     \u001b[0;31m# Create the parser.\u001b[0m\u001b[0;34m\u001b[0m\u001b[0;34m\u001b[0m\u001b[0m\n\u001b[0;32m--> 482\u001b[0;31m     \u001b[0mparser\u001b[0m \u001b[0;34m=\u001b[0m \u001b[0mTextFileReader\u001b[0m\u001b[0;34m(\u001b[0m\u001b[0mfilepath_or_buffer\u001b[0m\u001b[0;34m,\u001b[0m \u001b[0;34m**\u001b[0m\u001b[0mkwds\u001b[0m\u001b[0;34m)\u001b[0m\u001b[0;34m\u001b[0m\u001b[0;34m\u001b[0m\u001b[0m\n\u001b[0m\u001b[1;32m    483\u001b[0m \u001b[0;34m\u001b[0m\u001b[0m\n\u001b[1;32m    484\u001b[0m     \u001b[0;32mif\u001b[0m \u001b[0mchunksize\u001b[0m \u001b[0;32mor\u001b[0m \u001b[0miterator\u001b[0m\u001b[0;34m:\u001b[0m\u001b[0;34m\u001b[0m\u001b[0;34m\u001b[0m\u001b[0m\n",
      "\u001b[0;32m~/opt/anaconda3/lib/python3.9/site-packages/pandas/io/parsers/readers.py\u001b[0m in \u001b[0;36m__init__\u001b[0;34m(self, f, engine, **kwds)\u001b[0m\n\u001b[1;32m    809\u001b[0m             \u001b[0mself\u001b[0m\u001b[0;34m.\u001b[0m\u001b[0moptions\u001b[0m\u001b[0;34m[\u001b[0m\u001b[0;34m\"has_index_names\"\u001b[0m\u001b[0;34m]\u001b[0m \u001b[0;34m=\u001b[0m \u001b[0mkwds\u001b[0m\u001b[0;34m[\u001b[0m\u001b[0;34m\"has_index_names\"\u001b[0m\u001b[0;34m]\u001b[0m\u001b[0;34m\u001b[0m\u001b[0;34m\u001b[0m\u001b[0m\n\u001b[1;32m    810\u001b[0m \u001b[0;34m\u001b[0m\u001b[0m\n\u001b[0;32m--> 811\u001b[0;31m         \u001b[0mself\u001b[0m\u001b[0;34m.\u001b[0m\u001b[0m_engine\u001b[0m \u001b[0;34m=\u001b[0m \u001b[0mself\u001b[0m\u001b[0;34m.\u001b[0m\u001b[0m_make_engine\u001b[0m\u001b[0;34m(\u001b[0m\u001b[0mself\u001b[0m\u001b[0;34m.\u001b[0m\u001b[0mengine\u001b[0m\u001b[0;34m)\u001b[0m\u001b[0;34m\u001b[0m\u001b[0;34m\u001b[0m\u001b[0m\n\u001b[0m\u001b[1;32m    812\u001b[0m \u001b[0;34m\u001b[0m\u001b[0m\n\u001b[1;32m    813\u001b[0m     \u001b[0;32mdef\u001b[0m \u001b[0mclose\u001b[0m\u001b[0;34m(\u001b[0m\u001b[0mself\u001b[0m\u001b[0;34m)\u001b[0m\u001b[0;34m:\u001b[0m\u001b[0;34m\u001b[0m\u001b[0;34m\u001b[0m\u001b[0m\n",
      "\u001b[0;32m~/opt/anaconda3/lib/python3.9/site-packages/pandas/io/parsers/readers.py\u001b[0m in \u001b[0;36m_make_engine\u001b[0;34m(self, engine)\u001b[0m\n\u001b[1;32m   1038\u001b[0m             )\n\u001b[1;32m   1039\u001b[0m         \u001b[0;31m# error: Too many arguments for \"ParserBase\"\u001b[0m\u001b[0;34m\u001b[0m\u001b[0;34m\u001b[0m\u001b[0m\n\u001b[0;32m-> 1040\u001b[0;31m         \u001b[0;32mreturn\u001b[0m \u001b[0mmapping\u001b[0m\u001b[0;34m[\u001b[0m\u001b[0mengine\u001b[0m\u001b[0;34m]\u001b[0m\u001b[0;34m(\u001b[0m\u001b[0mself\u001b[0m\u001b[0;34m.\u001b[0m\u001b[0mf\u001b[0m\u001b[0;34m,\u001b[0m \u001b[0;34m**\u001b[0m\u001b[0mself\u001b[0m\u001b[0;34m.\u001b[0m\u001b[0moptions\u001b[0m\u001b[0;34m)\u001b[0m  \u001b[0;31m# type: ignore[call-arg]\u001b[0m\u001b[0;34m\u001b[0m\u001b[0;34m\u001b[0m\u001b[0m\n\u001b[0m\u001b[1;32m   1041\u001b[0m \u001b[0;34m\u001b[0m\u001b[0m\n\u001b[1;32m   1042\u001b[0m     \u001b[0;32mdef\u001b[0m \u001b[0m_failover_to_python\u001b[0m\u001b[0;34m(\u001b[0m\u001b[0mself\u001b[0m\u001b[0;34m)\u001b[0m\u001b[0;34m:\u001b[0m\u001b[0;34m\u001b[0m\u001b[0;34m\u001b[0m\u001b[0m\n",
      "\u001b[0;32m~/opt/anaconda3/lib/python3.9/site-packages/pandas/io/parsers/c_parser_wrapper.py\u001b[0m in \u001b[0;36m__init__\u001b[0;34m(self, src, **kwds)\u001b[0m\n\u001b[1;32m     49\u001b[0m \u001b[0;34m\u001b[0m\u001b[0m\n\u001b[1;32m     50\u001b[0m         \u001b[0;31m# open handles\u001b[0m\u001b[0;34m\u001b[0m\u001b[0;34m\u001b[0m\u001b[0m\n\u001b[0;32m---> 51\u001b[0;31m         \u001b[0mself\u001b[0m\u001b[0;34m.\u001b[0m\u001b[0m_open_handles\u001b[0m\u001b[0;34m(\u001b[0m\u001b[0msrc\u001b[0m\u001b[0;34m,\u001b[0m \u001b[0mkwds\u001b[0m\u001b[0;34m)\u001b[0m\u001b[0;34m\u001b[0m\u001b[0;34m\u001b[0m\u001b[0m\n\u001b[0m\u001b[1;32m     52\u001b[0m         \u001b[0;32massert\u001b[0m \u001b[0mself\u001b[0m\u001b[0;34m.\u001b[0m\u001b[0mhandles\u001b[0m \u001b[0;32mis\u001b[0m \u001b[0;32mnot\u001b[0m \u001b[0;32mNone\u001b[0m\u001b[0;34m\u001b[0m\u001b[0;34m\u001b[0m\u001b[0m\n\u001b[1;32m     53\u001b[0m \u001b[0;34m\u001b[0m\u001b[0m\n",
      "\u001b[0;32m~/opt/anaconda3/lib/python3.9/site-packages/pandas/io/parsers/base_parser.py\u001b[0m in \u001b[0;36m_open_handles\u001b[0;34m(self, src, kwds)\u001b[0m\n\u001b[1;32m    220\u001b[0m         \u001b[0mLet\u001b[0m \u001b[0mthe\u001b[0m \u001b[0mreaders\u001b[0m \u001b[0mopen\u001b[0m \u001b[0mIOHandles\u001b[0m \u001b[0mafter\u001b[0m \u001b[0mthey\u001b[0m \u001b[0mare\u001b[0m \u001b[0mdone\u001b[0m \u001b[0;32mwith\u001b[0m \u001b[0mtheir\u001b[0m \u001b[0mpotential\u001b[0m \u001b[0mraises\u001b[0m\u001b[0;34m.\u001b[0m\u001b[0;34m\u001b[0m\u001b[0;34m\u001b[0m\u001b[0m\n\u001b[1;32m    221\u001b[0m         \"\"\"\n\u001b[0;32m--> 222\u001b[0;31m         self.handles = get_handle(\n\u001b[0m\u001b[1;32m    223\u001b[0m             \u001b[0msrc\u001b[0m\u001b[0;34m,\u001b[0m\u001b[0;34m\u001b[0m\u001b[0;34m\u001b[0m\u001b[0m\n\u001b[1;32m    224\u001b[0m             \u001b[0;34m\"r\"\u001b[0m\u001b[0;34m,\u001b[0m\u001b[0;34m\u001b[0m\u001b[0;34m\u001b[0m\u001b[0m\n",
      "\u001b[0;32m~/opt/anaconda3/lib/python3.9/site-packages/pandas/io/common.py\u001b[0m in \u001b[0;36mget_handle\u001b[0;34m(path_or_buf, mode, encoding, compression, memory_map, is_text, errors, storage_options)\u001b[0m\n\u001b[1;32m    700\u001b[0m         \u001b[0;32mif\u001b[0m \u001b[0mioargs\u001b[0m\u001b[0;34m.\u001b[0m\u001b[0mencoding\u001b[0m \u001b[0;32mand\u001b[0m \u001b[0;34m\"b\"\u001b[0m \u001b[0;32mnot\u001b[0m \u001b[0;32min\u001b[0m \u001b[0mioargs\u001b[0m\u001b[0;34m.\u001b[0m\u001b[0mmode\u001b[0m\u001b[0;34m:\u001b[0m\u001b[0;34m\u001b[0m\u001b[0;34m\u001b[0m\u001b[0m\n\u001b[1;32m    701\u001b[0m             \u001b[0;31m# Encoding\u001b[0m\u001b[0;34m\u001b[0m\u001b[0;34m\u001b[0m\u001b[0m\n\u001b[0;32m--> 702\u001b[0;31m             handle = open(\n\u001b[0m\u001b[1;32m    703\u001b[0m                 \u001b[0mhandle\u001b[0m\u001b[0;34m,\u001b[0m\u001b[0;34m\u001b[0m\u001b[0;34m\u001b[0m\u001b[0m\n\u001b[1;32m    704\u001b[0m                 \u001b[0mioargs\u001b[0m\u001b[0;34m.\u001b[0m\u001b[0mmode\u001b[0m\u001b[0;34m,\u001b[0m\u001b[0;34m\u001b[0m\u001b[0;34m\u001b[0m\u001b[0m\n",
      "\u001b[0;31mFileNotFoundError\u001b[0m: [Errno 2] No such file or directory: 'emotion_annotations/partner_annotations/P1.partner.csv'"
     ]
    }
   ],
   "source": [
    "df1 = pd.read_csv('emotion_annotations/partner_annotations/P1.partner.csv')\n",
    "df2 = pd.read_csv('emotion_annotations/self_annotations/P1.self.csv')\n",
    "df3 = pd.read_csv('emotion_annotations/aggregated_external_annotations/P1.external.csv')"
   ]
  },
  {
   "cell_type": "code",
   "execution_count": null,
   "id": "48633d06-0341-4841-b734-88bd6baa0f32",
   "metadata": {
    "tags": []
   },
   "outputs": [],
   "source": [
    "print(len(df1), len(df2), len(df3))"
   ]
  },
  {
   "cell_type": "code",
   "execution_count": null,
   "id": "727b5011-408a-41d5-9389-26d756e6bdf5",
   "metadata": {},
   "outputs": [],
   "source": [
    "df1= df1.iloc[:, 0:8]"
   ]
  },
  {
   "cell_type": "code",
   "execution_count": null,
   "id": "201eef15-1205-4c8d-9466-0134b982c13f",
   "metadata": {
    "tags": []
   },
   "outputs": [],
   "source": [
    "df1"
   ]
  },
  {
   "cell_type": "code",
   "execution_count": null,
   "id": "04003eba-a215-4ebf-a2a6-bd0c756e336f",
   "metadata": {},
   "outputs": [],
   "source": [
    "csv_num = 32\n",
    "df1 = pd.read_csv(f'emotion_annotations/partner_annotations/P{csv_num}.partner.csv')\n",
    "df2 = pd.read_csv(f'emotion_annotations/self_annotations/P{csv_num}.self.csv')\n",
    "df3 = pd.read_csv(f'emotion_annotations/aggregated_external_annotations/P{csv_num}.external.csv')\n",
    "\n",
    "\n",
    "#keep most important emotions\n",
    "df1= df1.iloc[:, 0:8]\n",
    "df2 = df2.iloc[:,0:8]\n",
    "df3 = df3.iloc[:, 0:8]\n",
    "\n",
    "#drop cheerful\n",
    "df1 = df1.drop(labels = 'cheerful', axis = 1)\n",
    "df2 = df2.drop(labels = 'cheerful', axis = 1)\n",
    "df3 = df3.drop(labels = 'cheerful', axis = 1)\n",
    "\n",
    "\n",
    "new_df = pd.concat([df1, df2, df3]).groupby(level=0).mean().round(3)\n",
    "os.chdir('averaged_emotions')\n",
    "new_df.to_csv(f'p{csv_num}.csv', sep = ',', index = False)\n",
    "os.chdir('../')"
   ]
  },
  {
   "cell_type": "code",
   "execution_count": null,
   "id": "9748b6d2-9da7-4aa5-9d8e-132fb6111e2d",
   "metadata": {},
   "outputs": [],
   "source": []
  },
  {
   "cell_type": "code",
   "execution_count": null,
   "id": "c032bc12-d3e0-4b57-882c-72365566c5cf",
   "metadata": {},
   "outputs": [],
   "source": [
    "os.chdir('../')"
   ]
  },
  {
   "cell_type": "code",
   "execution_count": null,
   "id": "7d25b10b-5359-40e9-afa7-dc0571982958",
   "metadata": {},
   "outputs": [],
   "source": [
    "!ls"
   ]
  },
  {
   "cell_type": "code",
   "execution_count": null,
   "id": "d9a1f9e8-b9ec-46fd-936c-dc51a0cd87aa",
   "metadata": {},
   "outputs": [],
   "source": [
    "df1 = pd.read_csv('new_eeg/BrainWave_p1.csv')\n",
    "df2 = pd.read_csv('emotion_annotations/self_annotations/P1.self.csv')\n",
    "df3 = prd.read_csv('"
   ]
  },
  {
   "cell_type": "code",
   "execution_count": null,
   "id": "d5a9408d-7ae3-4c5d-b24a-3140904f0b54",
   "metadata": {},
   "outputs": [],
   "source": []
  },
  {
   "cell_type": "code",
   "execution_count": 5,
   "id": "71f90cfd-d128-401b-bbb8-d91dcef40c66",
   "metadata": {},
   "outputs": [],
   "source": [
    "df = pd.read_csv('transcript_emotion_6class/p1.p2.csv')\n",
    "df.rename(columns = {'results/alternatives/0/transcript' : 'full_transcript'}, inplace = True) \n",
    "df.rename(columns = {'results/alternatives/0/words/0/word' : 'word'}, inplace = True) "
   ]
  },
  {
   "cell_type": "code",
   "execution_count": 46,
   "id": "48d3a3bd-1538-44f5-903d-78dfd45bd9c8",
   "metadata": {
    "collapsed": true,
    "jupyter": {
     "outputs_hidden": true
    },
    "tags": []
   },
   "outputs": [
    {
     "data": {
      "text/plain": [
       "0           all\n",
       "1         right\n",
       "2         first\n",
       "3           one\n",
       "4           the\n",
       "5         state\n",
       "6           for\n",
       "7          this\n",
       "8     accepting\n",
       "9          this\n",
       "10     refugees\n",
       "11      arrived\n",
       "Name: word, dtype: object"
      ]
     },
     "execution_count": 46,
     "metadata": {},
     "output_type": "execute_result"
    }
   ],
   "source": [
    "df.word[0:12]"
   ]
  },
  {
   "cell_type": "code",
   "execution_count": 6,
   "id": "209e08c0-fea3-4c88-abc8-d886360c352a",
   "metadata": {
    "tags": []
   },
   "outputs": [],
   "source": [
    "word_list0 = []\n",
    "word_list1 = []\n",
    "\n",
    "# for j in range(0, len(df)):\n",
    "for i in range(0, len(df)-1):\n",
    "    if (df.seconds[i] == df.seconds[i+1]):\n",
    "        #print(df.iloc[:i+2, 5])\n",
    "        #print(df.word[i+1])\n",
    "        word_list = df.word[i]\n",
    "        #print(word_list)\n",
    "        word_list0.append(word_list)\n",
    "        \n",
    "        \n",
    "        #print(word_list0)\n",
    "        \n",
    "        \n",
    "        \n",
    "    else:\n",
    "        word_list0.append(df.word[i])\n",
    "        word_list1.append(word_list0)\n",
    "\n",
    "        word_list0=[]\n",
    "    \n",
    "    \n",
    "        \n",
    "    \n",
    "\n",
    "    \n",
    "\n",
    "        \n"
   ]
  },
  {
   "cell_type": "code",
   "execution_count": 9,
   "id": "b008e872-ee5d-441d-9d27-58adb7e407a6",
   "metadata": {
    "tags": []
   },
   "outputs": [],
   "source": [
    "word_list1[0] = ' '.join(word_list1[0])"
   ]
  },
  {
   "cell_type": "code",
   "execution_count": 13,
   "id": "fc572248-c133-4ecc-9c17-9cd62a69dbfb",
   "metadata": {},
   "outputs": [
    {
     "data": {
      "text/plain": [
       "'all right first one the state for this accepting this refugees'"
      ]
     },
     "execution_count": 13,
     "metadata": {},
     "output_type": "execute_result"
    }
   ],
   "source": [
    "word_list1[0]"
   ]
  },
  {
   "cell_type": "code",
   "execution_count": 57,
   "id": "06dc3b76-60f7-4870-9bbe-7c45d70c1e59",
   "metadata": {
    "tags": []
   },
   "outputs": [
    {
     "name": "stdout",
     "output_type": "stream",
     "text": [
      "[0      all\n",
      "1    right\n",
      "Name: word, dtype: object, 1    right\n",
      "2    first\n",
      "Name: word, dtype: object, 2    first\n",
      "3      one\n",
      "Name: word, dtype: object, 3    one\n",
      "4    the\n",
      "Name: word, dtype: object, 4      the\n",
      "5    state\n",
      "Name: word, dtype: object, 5    state\n",
      "6      for\n",
      "Name: word, dtype: object, 6     for\n",
      "7    this\n",
      "Name: word, dtype: object, 7         this\n",
      "8    accepting\n",
      "Name: word, dtype: object, 8    accepting\n",
      "9         this\n",
      "Name: word, dtype: object, 9         this\n",
      "10    refugees\n",
      "Name: word, dtype: object]\n"
     ]
    }
   ],
   "source": [
    "for i in word_list1:\n",
    "    df['"
   ]
  },
  {
   "cell_type": "code",
   "execution_count": 4,
   "id": "f296ce95-ac62-4b6d-b781-01a67f0288bc",
   "metadata": {},
   "outputs": [
    {
     "name": "stdout",
     "output_type": "stream",
     "text": [
      "\u001b[34mR\u001b[m\u001b[m                         \u001b[34meeg_emotion_6class\u001b[m\u001b[m        \u001b[34mtest.csvs\u001b[m\u001b[m\n",
      "README.md                 \u001b[34mnewest_transcript\u001b[m\u001b[m         \u001b[34mtranscript_emotion_6class\u001b[m\u001b[m\n",
      "\u001b[34mbinary_class_eeg\u001b[m\u001b[m          \u001b[34mnot_in_use\u001b[m\u001b[m\n",
      "\u001b[34mbinary_class_transcript\u001b[m\u001b[m   \u001b[34mnotebooks\u001b[m\u001b[m\n"
     ]
    }
   ],
   "source": [
    "!ls"
   ]
  },
  {
   "cell_type": "code",
   "execution_count": null,
   "id": "70529639-6da3-4664-b482-571b232bbbe4",
   "metadata": {},
   "outputs": [],
   "source": [
    "p_num = 1\n",
    "\n",
    "eeg = pd.read_csv(f'eeg_emotion_6class/p{p_num}_eeg.csv')\n",
    "\n",
    "word_list0 = []\n",
    "word_list1 = []\n",
    "\n",
    "# for j in range(0, len(df)):\n",
    "for i in range(0, len(eeg)-1):\n",
    "    if (eeg.seconds[i] == eeg.seconds[i+1]):\n",
    "        \n",
    "        \n",
    "        word_list = eeg[['delta', 'lowAlpha', 'highAlpha', 'lowBeta', 'highBeta', 'lowGamma', 'middleGamma', 'theta']].iloc[[i]]\n",
    "\n",
    "        word_list0.append(word_list)\n",
    "        \n",
    "        \n",
    "        \n",
    "        \n",
    "        \n",
    "    else:\n",
    "        word_list0.append(eeg.word[i])\n",
    "        word_list1.append(word_list0)\n",
    "\n",
    "        word_list0=[]"
   ]
  },
  {
   "cell_type": "code",
   "execution_count": 6,
   "id": "a0a3f6f5-9313-4f8b-a499-3bb9cf9621e6",
   "metadata": {},
   "outputs": [],
   "source": [
    "dff = pd.read_csv('eeg_emotion_6class/p1_eeg.csv')"
   ]
  },
  {
   "cell_type": "code",
   "execution_count": 8,
   "id": "4e116ca2-c978-43ef-8177-327deb7ddd25",
   "metadata": {
    "tags": []
   },
   "outputs": [
    {
     "data": {
      "text/html": [
       "<div>\n",
       "<style scoped>\n",
       "    .dataframe tbody tr th:only-of-type {\n",
       "        vertical-align: middle;\n",
       "    }\n",
       "\n",
       "    .dataframe tbody tr th {\n",
       "        vertical-align: top;\n",
       "    }\n",
       "\n",
       "    .dataframe thead th {\n",
       "        text-align: right;\n",
       "    }\n",
       "</style>\n",
       "<table border=\"1\" class=\"dataframe\">\n",
       "  <thead>\n",
       "    <tr style=\"text-align: right;\">\n",
       "      <th></th>\n",
       "      <th>timestamp</th>\n",
       "      <th>delta</th>\n",
       "      <th>lowAlpha</th>\n",
       "      <th>highAlpha</th>\n",
       "      <th>lowBeta</th>\n",
       "      <th>highBeta</th>\n",
       "      <th>lowGamma</th>\n",
       "      <th>middleGamma</th>\n",
       "      <th>theta</th>\n",
       "      <th>isValid</th>\n",
       "      <th>...</th>\n",
       "      <th>new_timestamp</th>\n",
       "      <th>trans_time</th>\n",
       "      <th>new_trans_time</th>\n",
       "      <th>seconds</th>\n",
       "      <th>arousal</th>\n",
       "      <th>valence</th>\n",
       "      <th>happy</th>\n",
       "      <th>angry</th>\n",
       "      <th>nervous</th>\n",
       "      <th>sad</th>\n",
       "    </tr>\n",
       "  </thead>\n",
       "  <tbody>\n",
       "    <tr>\n",
       "      <th>1</th>\n",
       "      <td>1548120821697</td>\n",
       "      <td>18626</td>\n",
       "      <td>36372</td>\n",
       "      <td>21400</td>\n",
       "      <td>55311</td>\n",
       "      <td>2814</td>\n",
       "      <td>4741</td>\n",
       "      <td>1079635</td>\n",
       "      <td>134751</td>\n",
       "      <td>1</td>\n",
       "      <td>...</td>\n",
       "      <td>1.548121e+12</td>\n",
       "      <td>1.008</td>\n",
       "      <td>710.171</td>\n",
       "      <td>5.0</td>\n",
       "      <td>1.333</td>\n",
       "      <td>2.667</td>\n",
       "      <td>1.667</td>\n",
       "      <td>1.0</td>\n",
       "      <td>1.333</td>\n",
       "      <td>1.0</td>\n",
       "    </tr>\n",
       "  </tbody>\n",
       "</table>\n",
       "<p>1 rows × 21 columns</p>\n",
       "</div>"
      ],
      "text/plain": [
       "       timestamp  delta  lowAlpha  highAlpha  lowBeta  highBeta  lowGamma  \\\n",
       "1  1548120821697  18626     36372      21400    55311      2814      4741   \n",
       "\n",
       "   middleGamma   theta  isValid  ...  new_timestamp  trans_time  \\\n",
       "1      1079635  134751        1  ...   1.548121e+12       1.008   \n",
       "\n",
       "   new_trans_time  seconds  arousal  valence  happy  angry  nervous  sad  \n",
       "1         710.171      5.0    1.333    2.667  1.667    1.0    1.333  1.0  \n",
       "\n",
       "[1 rows x 21 columns]"
      ]
     },
     "execution_count": 8,
     "metadata": {},
     "output_type": "execute_result"
    }
   ],
   "source": [
    "dff.iloc[[1]]"
   ]
  },
  {
   "cell_type": "code",
   "execution_count": null,
   "id": "d2083396-08c3-439d-830c-172d9aa9a2f8",
   "metadata": {},
   "outputs": [],
   "source": []
  },
  {
   "cell_type": "code",
   "execution_count": null,
   "id": "ff6b79dc-6a3d-4618-853f-6a529f1fbe19",
   "metadata": {},
   "outputs": [],
   "source": []
  },
  {
   "cell_type": "code",
   "execution_count": null,
   "id": "1f1af035-9383-4ef1-9211-dced34567041",
   "metadata": {},
   "outputs": [],
   "source": []
  },
  {
   "cell_type": "code",
   "execution_count": null,
   "id": "0e89d2cc-e590-4ed8-97ec-3b2d7607cc03",
   "metadata": {},
   "outputs": [],
   "source": []
  }
 ],
 "metadata": {
  "kernelspec": {
   "display_name": "Python 3 (ipykernel)",
   "language": "python",
   "name": "python3"
  },
  "language_info": {
   "codemirror_mode": {
    "name": "ipython",
    "version": 3
   },
   "file_extension": ".py",
   "mimetype": "text/x-python",
   "name": "python",
   "nbconvert_exporter": "python",
   "pygments_lexer": "ipython3",
   "version": "3.9.7"
  }
 },
 "nbformat": 4,
 "nbformat_minor": 5
}
