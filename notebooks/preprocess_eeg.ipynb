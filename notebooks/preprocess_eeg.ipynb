{
 "cells": [
  {
   "cell_type": "code",
   "execution_count": 1,
   "id": "a47d1aab-527d-487e-bd19-21454cd2cb5d",
   "metadata": {},
   "outputs": [],
   "source": [
    "import pandas as pd\n",
    "import os"
   ]
  },
  {
   "cell_type": "code",
   "execution_count": 2,
   "id": "10b0e525-1a91-410f-92ed-4459e495b775",
   "metadata": {},
   "outputs": [
    {
     "name": "stdout",
     "output_type": "stream",
     "text": [
      "preprocess_csv.ipynb         preprocess_transcripts.ipynb\n",
      "preprocess_eeg.ipynb\n"
     ]
    }
   ],
   "source": [
    "!ls"
   ]
  },
  {
   "cell_type": "code",
   "execution_count": 3,
   "id": "de8f62c8-f10a-4811-95fc-532f0e97229a",
   "metadata": {},
   "outputs": [],
   "source": [
    "os.chdir('../')"
   ]
  },
  {
   "cell_type": "code",
   "execution_count": null,
   "id": "0da21af4-dc71-4764-bc19-9c7bdb436632",
   "metadata": {
    "tags": []
   },
   "outputs": [],
   "source": [
    "count = 0\n",
    "directory = 'neurosky_polar_data'\n",
    "df = pd.DataFrame()\n",
    "for num in sorted(os.listdir(directory)):\n",
    "    p = os.path.join(directory, num)\n",
    "    #print(num)\n",
    "    for eeg in os.listdir(p):\n",
    "        #print(eeg)\n",
    "        if 'BrainWave_p27' in eeg:\n",
    "            os.chdir(p)\n",
    "            read = pd.read_csv(eeg)\n",
    "            os.chdir('../../')\n",
    "    #print(read)\n",
    "    #print(read.iloc[:, 0].astype)\n",
    "#             df = pd.DataFrame()\n",
    "            \n",
    "#             #read1 = read.iloc()\n",
    "            \n",
    "#             newcol = [0]\n",
    "            \n",
    "#             for i in read.iloc():\n",
    "#                 newcol = [0]\n",
    "                \n",
    "#                 print(i[0])\n",
    "#                 print(i[0])\n",
    "#                 #print(read['timestamp'])\n",
    "                \n",
    "#                 #break\n",
    "            read['new_timestamp'] = read['timestamp'].shift(1)\n",
    "            read['new_timestamp'] = read['new_timestamp'].fillna(0)\n",
    "    \n",
    "            read['trans_time'] = (read['timestamp'] - read['new_timestamp'])/1000\n",
    "            read['trans_time'].iloc()[0] = 0\n",
    "            #print(read['trans_time'].iloc()[0])\n",
    "            #read['sum'] = read['trans_time'].value.cumsum()\n",
    "            for i in read.iloc[:, -1]:\n",
    "                #print(i)\n",
    "                read['new_trans_time'] = read['trans_time'].cumsum()\n",
    "                #print(read)\n",
    "                df = pd.DataFrame()\n",
    "                df=pd.concat([df, read])\n",
    "                #print(df)\n",
    "                \n",
    "            \n",
    "            \n",
    "                    \n",
    "            df['new_trans_time'] = df['new_trans_time'].round(3)\n",
    "            \n",
    "            os.chdir('new_eeg')\n",
    "            df.to_csv(f'BrainWave_p{count}a.csv', sep = ',', index = False)\n",
    "            count+=1\n",
    "            os.chdir('../')\n",
    "            \n",
    "\n",
    "\n",
    "            \n",
    "    \n",
    "    \n",
    "    "
   ]
  },
  {
   "cell_type": "code",
   "execution_count": 4,
   "id": "f73e093c-002e-46dd-ac45-d096cd434da1",
   "metadata": {},
   "outputs": [
    {
     "name": "stderr",
     "output_type": "stream",
     "text": [
      "/Users/williamhan/opt/anaconda3/lib/python3.9/site-packages/pandas/core/indexing.py:1732: SettingWithCopyWarning: \n",
      "A value is trying to be set on a copy of a slice from a DataFrame\n",
      "\n",
      "See the caveats in the documentation: https://pandas.pydata.org/pandas-docs/stable/user_guide/indexing.html#returning-a-view-versus-a-copy\n",
      "  self._setitem_single_block(indexer, value, name)\n"
     ]
    }
   ],
   "source": [
    "count = 27\n",
    "directory = 'neurosky_polar_data/27'\n",
    "df = pd.DataFrame()\n",
    "\n",
    "os.chdir(directory)\n",
    "read = pd.read_csv('BrainWave.csv')\n",
    "os.chdir('../../')\n",
    "\n",
    "\n",
    "read['new_timestamp'] = read['timestamp'].shift(1)\n",
    "read['new_timestamp'] = read['new_timestamp'].fillna(0)\n",
    "\n",
    "read['trans_time'] = (read['timestamp'] - read['new_timestamp'])/1000\n",
    "read['trans_time'].iloc()[0] = 0\n",
    "#print(read['trans_time'].iloc()[0])\n",
    "#read['sum'] = read['trans_time'].value.cumsum()\n",
    "for i in read.iloc[:, -1]:\n",
    "    #print(i)\n",
    "    read['new_trans_time'] = read['trans_time'].cumsum()\n",
    "    #print(read)\n",
    "    df = pd.DataFrame()\n",
    "    df=pd.concat([df, read])\n",
    "    #print(df)\n",
    "\n",
    "\n",
    "\n",
    "\n",
    "df['new_trans_time'] = df['new_trans_time'].round(3)\n",
    "\n",
    "os.chdir('new_eeg')\n",
    "df.to_csv(f'BrainWave_p{count}.csv', sep = ',', index = False)\n",
    "\n",
    "os.chdir('../')\n",
    "\n",
    "\n",
    "\n",
    "            \n",
    "    \n",
    "    \n",
    "    "
   ]
  },
  {
   "cell_type": "code",
   "execution_count": null,
   "id": "11179608-4b07-49d1-91f7-c15277776631",
   "metadata": {},
   "outputs": [],
   "source": [
    "read2 = pd.read_csv('BrainWave_new.csv')"
   ]
  },
  {
   "cell_type": "code",
   "execution_count": null,
   "id": "84a688c2-e221-4973-a137-af63250ef242",
   "metadata": {},
   "outputs": [],
   "source": [
    "read2['new_trans_time'] = read2['new_trans_time'].round(3)"
   ]
  },
  {
   "cell_type": "code",
   "execution_count": null,
   "id": "cf158d64-2be5-4860-a560-268378bad41c",
   "metadata": {},
   "outputs": [],
   "source": [
    "read2.to_csv('BrainWave_newnew.csv', sep=',', index = False)"
   ]
  },
  {
   "cell_type": "code",
   "execution_count": null,
   "id": "94bd4306-e958-4e08-8f9d-84a105796fc6",
   "metadata": {},
   "outputs": [],
   "source": [
    "import numpy as np\n",
    "import pandas as pd \n",
    "import mne\n",
    "import scipy"
   ]
  },
  {
   "cell_type": "code",
   "execution_count": null,
   "id": "6ae48223-b97e-4d5d-a725-3ddbedfa6a62",
   "metadata": {
    "tags": []
   },
   "outputs": [],
   "source": [
    "path = 'neurosky_polar_data/1/'\n",
    "data = pd.read_csv(path + 'BrainWave.csv', \n",
    "                   skiprows=0, usecols=[*range(0, 8)]) \n",
    "ch_names = ['delta', 'lowAlpha', 'highAlpha', 'lowBeta', 'highBeta', 'lowGamma', 'middleGamma', 'theta']\n",
    "\n",
    "sfreq = 125 \n",
    "info = mne.create_info(ch_names = ch_names, sfreq = sfreq)\n",
    "raw = mne.io.RawArray(data.transpose(), info)\n",
    "raw.plot()"
   ]
  },
  {
   "cell_type": "code",
   "execution_count": null,
   "id": "08f80b0a-52e0-4336-991e-ca92f067fe3c",
   "metadata": {},
   "outputs": [],
   "source": [
    "raw.plot_psd(fmax=10, picks='all')"
   ]
  },
  {
   "cell_type": "code",
   "execution_count": null,
   "id": "fb2577a2-1f8b-4f45-891d-b2b94ac17873",
   "metadata": {},
   "outputs": [],
   "source": []
  }
 ],
 "metadata": {
  "kernelspec": {
   "display_name": "Python 3 (ipykernel)",
   "language": "python",
   "name": "python3"
  },
  "language_info": {
   "codemirror_mode": {
    "name": "ipython",
    "version": 3
   },
   "file_extension": ".py",
   "mimetype": "text/x-python",
   "name": "python",
   "nbconvert_exporter": "python",
   "pygments_lexer": "ipython3",
   "version": "3.9.7"
  }
 },
 "nbformat": 4,
 "nbformat_minor": 5
}
