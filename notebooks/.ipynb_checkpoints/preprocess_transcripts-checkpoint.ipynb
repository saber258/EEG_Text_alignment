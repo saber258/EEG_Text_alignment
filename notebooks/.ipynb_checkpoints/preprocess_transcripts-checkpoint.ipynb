{
 "cells": [
  {
   "cell_type": "code",
   "execution_count": 1,
   "id": "2eb58cbd-b242-452a-b433-1080efcf6730",
   "metadata": {},
   "outputs": [],
   "source": [
    "import pandas as pd\n",
    "import os"
   ]
  },
  {
   "cell_type": "code",
   "execution_count": 2,
   "id": "5af6fa21-60d4-40b2-9dcd-f91a61a39781",
   "metadata": {},
   "outputs": [
    {
     "name": "stdout",
     "output_type": "stream",
     "text": [
      "preprocess_csv.ipynb         preprocess_transcripts.ipynb\n",
      "preprocess_eeg.ipynb\n"
     ]
    }
   ],
   "source": [
    "!ls"
   ]
  },
  {
   "cell_type": "code",
   "execution_count": 3,
   "id": "3728e0f2-876b-4bd6-bd9f-047bb8b3369d",
   "metadata": {},
   "outputs": [],
   "source": [
    "os.chdir('../')"
   ]
  },
  {
   "cell_type": "code",
   "execution_count": 4,
   "id": "a109297c-77b0-403b-888a-f8d470a79c2d",
   "metadata": {},
   "outputs": [],
   "source": [
    "def return_index(count, csv):\n",
    "    for i in range(count, len(brain)):\n",
    "        return i\n",
    "        break\n",
    "    for j in range(count, len(subjects)):\n",
    "        return j\n",
    "        break\n",
    "    for k in range(count,len(emotion)):\n",
    "        return k\n",
    "        break\n",
    "    if csv == 'i':\n",
    "        return i\n",
    "    if csv == 'j':\n",
    "        return j\n",
    "    if csv == 'k':\n",
    "        return k\n",
    "    \n",
    "    \n",
    "def return_col_len(csv):\n",
    "    col_len = len(csv.columns)\n",
    "    return col_len\n",
    "\n",
    "def start_time(brain, debate_start):\n",
    "    for i in range(0, len(brain)):\n",
    "        if brain.timestamp[i] >= debate_start:\n",
    "            return i\n",
    "        \n",
    "def return_column_len(emotion, count):\n",
    "    for i in range(count,len(emotion.columns)):\n",
    "        return i"
   ]
  },
  {
   "cell_type": "code",
   "execution_count": 5,
   "id": "f9d56c2f-9660-44b5-9e94-49e1580fb2fa",
   "metadata": {
    "tags": []
   },
   "outputs": [
    {
     "ename": "NameError",
     "evalue": "name 'brain' is not defined",
     "output_type": "error",
     "traceback": [
      "\u001b[0;31m---------------------------------------------------------------------------\u001b[0m",
      "\u001b[0;31mNameError\u001b[0m                                 Traceback (most recent call last)",
      "\u001b[0;32m/var/folders/70/s03t_xm53wq9db1vxd6l5d8c0000gn/T/ipykernel_14942/1859142904.py\u001b[0m in \u001b[0;36m<module>\u001b[0;34m\u001b[0m\n\u001b[1;32m     93\u001b[0m \u001b[0;34m\u001b[0m\u001b[0m\n\u001b[1;32m     94\u001b[0m             \u001b[0mos\u001b[0m\u001b[0;34m.\u001b[0m\u001b[0mchdir\u001b[0m\u001b[0;34m(\u001b[0m\u001b[0;34m'eeg_emotion_csvs'\u001b[0m\u001b[0;34m)\u001b[0m\u001b[0;34m\u001b[0m\u001b[0;34m\u001b[0m\u001b[0m\n\u001b[0;32m---> 95\u001b[0;31m             \u001b[0mbrain\u001b[0m\u001b[0;34m.\u001b[0m\u001b[0mto_csv\u001b[0m\u001b[0;34m(\u001b[0m\u001b[0;34mf'p{csv_num}a.csv'\u001b[0m\u001b[0;34m,\u001b[0m \u001b[0msep\u001b[0m\u001b[0;34m=\u001b[0m\u001b[0;34m','\u001b[0m\u001b[0;34m,\u001b[0m \u001b[0mindex\u001b[0m\u001b[0;34m=\u001b[0m\u001b[0;32mFalse\u001b[0m\u001b[0;34m)\u001b[0m\u001b[0;34m\u001b[0m\u001b[0;34m\u001b[0m\u001b[0m\n\u001b[0m\u001b[1;32m     96\u001b[0m             \u001b[0mos\u001b[0m\u001b[0;34m.\u001b[0m\u001b[0mchdir\u001b[0m\u001b[0;34m(\u001b[0m\u001b[0;34m'../'\u001b[0m\u001b[0;34m)\u001b[0m\u001b[0;34m\u001b[0m\u001b[0;34m\u001b[0m\u001b[0m\n\u001b[1;32m     97\u001b[0m             \u001b[0mcount\u001b[0m \u001b[0;34m+=\u001b[0m\u001b[0;36m1\u001b[0m\u001b[0;34m\u001b[0m\u001b[0;34m\u001b[0m\u001b[0m\n",
      "\u001b[0;31mNameError\u001b[0m: name 'brain' is not defined"
     ]
    }
   ],
   "source": [
    "csv_num=1\n",
    "count = 0\n",
    "os.chdir('metadata')\n",
    "subjects = pd.read_excel('subjects os.listdir.xlsx') \n",
    "\n",
    "#subjects csv: initTime - time when data collection started\n",
    "#startTime - time when debate started \n",
    "#endTime - time when debate ended\n",
    "\n",
    "startTime = subjects['startTime']   #debate startTime\n",
    "endTime = subjects['endTime'] #debate endTime\n",
    "os.chdir('../')\n",
    "\n",
    "for p in sorted(os.listdir('emotion_annotations/self_annotations')):   #emotion annotations for each subject\n",
    "    if '.csv' in p:\n",
    "    \n",
    "        os.chdir('emotion_annotations/self_annotations')\n",
    "        emotion = pd.read_csv(p)   #read annotation csv\n",
    "        os.chdir('../../')\n",
    "        #print(emotion)\n",
    "        \n",
    "        for eeg in sorted(os.listdir('new_eeg')):    #eeg readings for each subject\n",
    "            if '.csv' in eeg:\n",
    "            \n",
    "                os.chdir('new_eeg')\n",
    "                brain = pd.read_csv(eeg)     #read eeg csv\n",
    "                \n",
    "                brain['seconds'] = ''\n",
    "                brain['arousal'] = ''\n",
    "                brain['valence'] = ''\n",
    "                brain['cheerful'] = ''\n",
    "                brain['happy'] = ''\n",
    "                brain['angry'] = ''\n",
    "                brain['nervous'] = ''\n",
    "                brain['sad'] = ''\n",
    "                brain['boredom'] = ''\n",
    "                brain['confusion'] = ''\n",
    "                brain['delight'] = ''\n",
    "                brain['concentration'] = ''\n",
    "                brain['frustration'] = ''\n",
    "                brain['surpise'] = ''\n",
    "                brain['none_1'] = ''\n",
    "                brain['confrustion'] = ''\n",
    "                brain['contempt'] = ''\n",
    "                brain['dejection'] = ''\n",
    "                brain['disgust'] = ''\n",
    "                brain['eureka'] = ''\n",
    "                brain['pride'] = ''\n",
    "                brain['sorrow'] = ''\n",
    "                brain['none_2'] = ''\n",
    "                os.chdir('../')\n",
    "                #print(brain)\n",
    "                '''\n",
    "                \n",
    "                important variables:\n",
    "                \n",
    "                timestamp in brain --> time intervals eeg recording starts\n",
    "                new_trans_time --> compounding time intervals (in seconds) \n",
    "                startTime --> time when debate starts\n",
    "                seconds in annot --> time intervals of when participant recorded their emotions\n",
    "                \n",
    "                \n",
    "                I want to\n",
    "                \n",
    "                \n",
    "                1. at timestamp >= startTime (since this is when the debate starts)\n",
    "                    a. if new_trans_time <= seconds (annot) --> concatenate emotion annotations for the corresponding seconds\n",
    "                    b. else move on to the next seconds interval (annot)\n",
    "                \n",
    "                '''\n",
    "                \n",
    "                counter = 0\n",
    "                \n",
    "                \n",
    "                debate_start = subjects.startTime[count]\n",
    "                #print(debate_start)\n",
    "                index = start_time(brain, debate_start) # index where debate starts\n",
    "                #print(index)\n",
    "                start = index\n",
    "                for i in range(index, len(brain)):\n",
    "                    #print(brain.new_trans_time[i], (emotion.seconds[counter] + brain.new_trans_time[start]))\n",
    "                    #brain_time = brain.new_trans_time[i]\n",
    "            \n",
    "                    if (brain.new_trans_time[i] >= (emotion.seconds[counter] + brain.new_trans_time[start])):\n",
    "                        #print(brain.new_trans_time[i], (emotion.seconds[counter] + brain.new_trans_time[start]))\n",
    "                        counter +=1\n",
    "                        start += 1\n",
    "                        \n",
    "                    brain.iloc[i, 14:] = emotion.iloc[counter]\n",
    "                    \n",
    "                    \n",
    "                    \n",
    "\n",
    "            os.chdir('eeg_emotion_csvs')\n",
    "            brain.to_csv(f'p{csv_num}a.csv', sep=',', index=False)\n",
    "            os.chdir('../')\n",
    "            count +=1\n",
    "            break    \n",
    "                \n",
    "\n",
    " \n",
    "                    \n",
    "                    "
   ]
  },
  {
   "cell_type": "code",
   "execution_count": null,
   "id": "4e954642-cfaf-460d-b744-42a5b8e328aa",
   "metadata": {},
   "outputs": [],
   "source": [
    "pd.set_option('display.max_colwidth', None)"
   ]
  },
  {
   "cell_type": "code",
   "execution_count": null,
   "id": "3f9a92dc-961e-47fa-ba6d-91086e1c7bfa",
   "metadata": {},
   "outputs": [],
   "source": [
    "pd.set_option('display.max_columns', None)  "
   ]
  },
  {
   "cell_type": "code",
   "execution_count": null,
   "id": "3f647a19-cde1-4329-9d17-0c4076cfdd49",
   "metadata": {},
   "outputs": [],
   "source": [
    "brain1 = pd.DataFrame(brain)"
   ]
  },
  {
   "cell_type": "code",
   "execution_count": null,
   "id": "8874a6ff-88f6-4186-82f4-e5d83309b630",
   "metadata": {},
   "outputs": [],
   "source": [
    "brain1.head(730)"
   ]
  },
  {
   "cell_type": "code",
   "execution_count": null,
   "id": "48633d06-0341-4841-b734-88bd6baa0f32",
   "metadata": {
    "tags": []
   },
   "outputs": [],
   "source": [
    "%history"
   ]
  },
  {
   "cell_type": "code",
   "execution_count": null,
   "id": "04003eba-a215-4ebf-a2a6-bd0c756e336f",
   "metadata": {},
   "outputs": [],
   "source": [
    "for i in range(5):\n",
    "    return i"
   ]
  },
  {
   "cell_type": "code",
   "execution_count": null,
   "id": "c032bc12-d3e0-4b57-882c-72365566c5cf",
   "metadata": {},
   "outputs": [],
   "source": [
    "os.chdir('CMUSAIL')"
   ]
  },
  {
   "cell_type": "code",
   "execution_count": null,
   "id": "7d25b10b-5359-40e9-afa7-dc0571982958",
   "metadata": {},
   "outputs": [],
   "source": [
    "!ls"
   ]
  },
  {
   "cell_type": "code",
   "execution_count": null,
   "id": "d9a1f9e8-b9ec-46fd-936c-dc51a0cd87aa",
   "metadata": {},
   "outputs": [],
   "source": [
    "df1 = pd.read_csv('new_eeg/BrainWave_p1.csv')\n",
    "df2 = pd.read_csv('emotion_annotations/self_annotations/P1.self.csv')\n"
   ]
  },
  {
   "cell_type": "code",
   "execution_count": null,
   "id": "71f90cfd-d128-401b-bbb8-d91dcef40c66",
   "metadata": {},
   "outputs": [],
   "source": [
    "newdf = pd.DataFrame(df1.loc[0])"
   ]
  },
  {
   "cell_type": "code",
   "execution_count": null,
   "id": "209e08c0-fea3-4c88-abc8-d886360c352a",
   "metadata": {},
   "outputs": [],
   "source": [
    "newdf = pd.DataFrame(df1.iloc[0])"
   ]
  },
  {
   "cell_type": "code",
   "execution_count": null,
   "id": "10e2a75e-b518-4a84-9579-181272fa828b",
   "metadata": {},
   "outputs": [],
   "source": [
    "newdf.head()"
   ]
  },
  {
   "cell_type": "code",
   "execution_count": null,
   "id": "06dc3b76-60f7-4870-9bbe-7c45d70c1e59",
   "metadata": {},
   "outputs": [],
   "source": [
    "for i,k in range(len(df1)):\n",
    "    print(i,k)"
   ]
  },
  {
   "cell_type": "code",
   "execution_count": null,
   "id": "70529639-6da3-4664-b482-571b232bbbe4",
   "metadata": {},
   "outputs": [],
   "source": [
    "df1.iloc[0,1\n",
    "        ]"
   ]
  },
  {
   "cell_type": "code",
   "execution_count": null,
   "id": "a0a3f6f5-9313-4f8b-a499-3bb9cf9621e6",
   "metadata": {},
   "outputs": [],
   "source": [
    "for i in df1.timestamp:\n",
    "    print(i)"
   ]
  },
  {
   "cell_type": "code",
   "execution_count": null,
   "id": "4e116ca2-c978-43ef-8177-327deb7ddd25",
   "metadata": {
    "tags": []
   },
   "outputs": [],
   "source": [
    "for i in range(0,len(df2)):\n",
    "    new_df = df1.iloc[i, :]\n",
    "    new_df = pd.DataFrame(new_df)\n",
    "    print(new_df)"
   ]
  },
  {
   "cell_type": "code",
   "execution_count": null,
   "id": "d2083396-08c3-439d-830c-172d9aa9a2f8",
   "metadata": {},
   "outputs": [],
   "source": [
    "for col in df1.columns:\n",
    "    print(col)"
   ]
  },
  {
   "cell_type": "code",
   "execution_count": null,
   "id": "ff6b79dc-6a3d-4618-853f-6a529f1fbe19",
   "metadata": {},
   "outputs": [],
   "source": [
    "col"
   ]
  },
  {
   "cell_type": "code",
   "execution_count": null,
   "id": "1f1af035-9383-4ef1-9211-dced34567041",
   "metadata": {},
   "outputs": [],
   "source": [
    "df1 = 0"
   ]
  },
  {
   "cell_type": "code",
   "execution_count": null,
   "id": "cf238993-40d0-4c29-987e-113f013f8577",
   "metadata": {},
   "outputs": [],
   "source": [
    "df1.hi[0]=1"
   ]
  },
  {
   "cell_type": "code",
   "execution_count": null,
   "id": "3fafef44-4bda-42b8-9373-1168981c19b1",
   "metadata": {},
   "outputs": [],
   "source": [
    "df1.iloc[0, 2:]"
   ]
  },
  {
   "cell_type": "code",
   "execution_count": null,
   "id": "0e89d2cc-e590-4ed8-97ec-3b2d7607cc03",
   "metadata": {},
   "outputs": [],
   "source": []
  }
 ],
 "metadata": {
  "kernelspec": {
   "display_name": "Python 3 (ipykernel)",
   "language": "python",
   "name": "python3"
  },
  "language_info": {
   "codemirror_mode": {
    "name": "ipython",
    "version": 3
   },
   "file_extension": ".py",
   "mimetype": "text/x-python",
   "name": "python",
   "nbconvert_exporter": "python",
   "pygments_lexer": "ipython3",
   "version": "3.9.7"
  }
 },
 "nbformat": 4,
 "nbformat_minor": 5
}
