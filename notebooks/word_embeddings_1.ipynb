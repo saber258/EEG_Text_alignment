{
 "cells": [
  {
   "cell_type": "code",
   "execution_count": null,
   "id": "c177b20c-5be4-49df-856a-47b4b16dcdb9",
   "metadata": {
    "tags": []
   },
   "outputs": [],
   "source": [
    "!pip install gensim"
   ]
  },
  {
   "cell_type": "code",
   "execution_count": null,
   "id": "edff0997-42b6-49e1-a8f4-3aee5b21474f",
   "metadata": {
    "tags": []
   },
   "outputs": [],
   "source": [
    "!pip install transformers"
   ]
  },
  {
   "cell_type": "code",
   "execution_count": null,
   "id": "3897335b-4342-4880-bfb3-592301794a73",
   "metadata": {},
   "outputs": [],
   "source": [
    "conda install -c huggingface transformers "
   ]
  },
  {
   "cell_type": "code",
   "execution_count": 1,
   "id": "0db4f754-ff60-46cd-89a8-598b1685c5fe",
   "metadata": {},
   "outputs": [],
   "source": [
    "import gensim\n",
    "# import torch\n",
    "# from transformers import BertTokenizer, BertModel\n",
    "\n",
    "# # OPTIONAL: if you want to have more information on what's happening, activate the logger as follows\n",
    "# import logging\n",
    "# #logging.basicConfig(level=logging.INFO)\n",
    "\n",
    "# import matplotlib.pyplot as plt\n",
    "# % matplotlib inline\n",
    "\n"
   ]
  },
  {
   "cell_type": "code",
   "execution_count": 2,
   "id": "fa417c64-25f0-4225-87fa-a32dd853329b",
   "metadata": {},
   "outputs": [],
   "source": [
    "import torch"
   ]
  },
  {
   "cell_type": "code",
   "execution_count": null,
   "id": "18a0b614-9d52-4a63-b97e-b381a2a2aea8",
   "metadata": {},
   "outputs": [],
   "source": [
    "from transformers import BertTokenizer, BertModel"
   ]
  },
  {
   "cell_type": "code",
   "execution_count": null,
   "id": "7afc84de-4a61-4b26-82ea-640a26998b94",
   "metadata": {},
   "outputs": [],
   "source": [
    "import transformers"
   ]
  },
  {
   "cell_type": "code",
   "execution_count": null,
   "id": "b4eb7e8e-ff74-442e-8497-9b4ff396c75b",
   "metadata": {},
   "outputs": [],
   "source": []
  }
 ],
 "metadata": {
  "kernelspec": {
   "display_name": "Python 3 (ipykernel)",
   "language": "python",
   "name": "python3"
  },
  "language_info": {
   "codemirror_mode": {
    "name": "ipython",
    "version": 3
   },
   "file_extension": ".py",
   "mimetype": "text/x-python",
   "name": "python",
   "nbconvert_exporter": "python",
   "pygments_lexer": "ipython3",
   "version": "3.9.7"
  }
 },
 "nbformat": 4,
 "nbformat_minor": 5
}
