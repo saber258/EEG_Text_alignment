{
 "cells": [
  {
   "cell_type": "code",
   "execution_count": 1,
   "id": "51f8b84c-7929-4bcf-b714-0f4bee6ab2c2",
   "metadata": {},
   "outputs": [],
   "source": [
    "import pandas as pd\n",
    "import os"
   ]
  },
  {
   "cell_type": "code",
   "execution_count": null,
   "id": "eec0ae0c-92bd-4cdb-ae57-8797c2739d21",
   "metadata": {},
   "outputs": [],
   "source": [
    "ls"
   ]
  },
  {
   "cell_type": "code",
   "execution_count": null,
   "id": "67433d70-df8a-4f55-beb4-5608c5994117",
   "metadata": {},
   "outputs": [],
   "source": [
    "cols = ['salary', 'num_candidates']\n",
    "\n",
    "data[cols].mean()"
   ]
  },
  {
   "cell_type": "code",
   "execution_count": 33,
   "id": "e36f1a1a-de88-4f96-b4f4-a93134844423",
   "metadata": {},
   "outputs": [],
   "source": [
    "p = 32\n",
    "\n",
    "eeg = pd.read_csv(f'eeg_emotion_6class_ave/p{p}.csv')\n",
    "\n",
    "#trans = pd.read_csv('full_transcript_concat.csv')\n",
    "\n",
    "for i in range(0, len(eeg)):\n",
    "    eeg.iloc[i, 0] = ((eeg.iloc[i, 0] - 85299.356148) / 47813.838370).round(3)       #delta\n",
    "    \n",
    "    eeg.iloc[i, 1] = ((eeg.iloc[i, 1] - 96129.445120)/ 56073.214102).round(3)          #lowAlpha\n",
    "    \n",
    "    eeg.iloc[i, 2] = ((eeg.iloc[i, 2] - 80285.336324)/ 47735.295157).round(3)       #highAlpha\n",
    "    \n",
    "    eeg.iloc[i, 3] = ((eeg.iloc[i, 3] - 101174.434683)/ 67484.549855).round(3)           #lowBeta\n",
    "    \n",
    "    eeg.iloc[i, 4] = ((eeg.iloc[i, 4] - 8028.357761)/ 6148.901148).round(3)           #highBeta\n",
    "    \n",
    "    eeg.iloc[i, 5] = ((eeg.iloc[i, 5] - 15235.657211)/ 10586.864779).round(3)          #lowGamma\n",
    "    \n",
    "    eeg.iloc[i, 6] = ((eeg.iloc[i, 6] - 930091.259838)/ 300132.918361).round(3)          #middleGamma\n",
    "    \n",
    "    eeg.iloc[i, 7] = ((eeg.iloc[i, 7] - 370486.076359)/ 171703.152020).round(3)          #theta\n",
    "    \n",
    "eeg.to_csv(f'p{p}.csv', sep=',', index=False)\n",
    "    "
   ]
  },
  {
   "cell_type": "code",
   "execution_count": null,
   "id": "57a0ea71-e601-4ea3-ac7e-880972d6661d",
   "metadata": {
    "tags": []
   },
   "outputs": [],
   "source": [
    "eeg = pd.read_csv(f'eeg_emotion_6class_ave/p{p}.csv')\n"
   ]
  },
  {
   "cell_type": "code",
   "execution_count": null,
   "id": "f4d478ac-2571-4d53-92cc-c9cbb5fca5be",
   "metadata": {},
   "outputs": [],
   "source": [
    "cols = ['delta', 'lowAlpha', 'highAlpha', 'lowBeta', 'highBeta', 'lowGamma', 'middleGamma', 'theta']\n",
    "\n",
    "eeg[cols].mean()"
   ]
  },
  {
   "cell_type": "code",
   "execution_count": null,
   "id": "5cb0e65a-f44c-4cef-a597-986c933366ef",
   "metadata": {},
   "outputs": [],
   "source": [
    "print(eeg[['delta', 'lowAlpha', 'highAlpha', 'lowBeta', 'highBeta', 'lowGamma', 'middleGamma', 'theta']].std())"
   ]
  },
  {
   "cell_type": "code",
   "execution_count": null,
   "id": "697d3e0d-b1bb-4576-87cb-d788d100ad02",
   "metadata": {},
   "outputs": [],
   "source": []
  }
 ],
 "metadata": {
  "kernelspec": {
   "display_name": "Python 3 (ipykernel)",
   "language": "python",
   "name": "python3"
  },
  "language_info": {
   "codemirror_mode": {
    "name": "ipython",
    "version": 3
   },
   "file_extension": ".py",
   "mimetype": "text/x-python",
   "name": "python",
   "nbconvert_exporter": "python",
   "pygments_lexer": "ipython3",
   "version": "3.9.7"
  }
 },
 "nbformat": 4,
 "nbformat_minor": 5
}
