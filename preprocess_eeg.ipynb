{
 "cells": [
  {
   "cell_type": "code",
   "execution_count": 1,
   "id": "a47d1aab-527d-487e-bd19-21454cd2cb5d",
   "metadata": {},
   "outputs": [],
   "source": [
    "import pandas as pd\n",
    "import os"
   ]
  },
  {
   "cell_type": "code",
   "execution_count": 42,
   "id": "fbc4f92c-b3ef-478b-9a9a-525fb1106903",
   "metadata": {},
   "outputs": [
    {
     "name": "stdout",
     "output_type": "stream",
     "text": [
      "CMUSAIL.Rproj        \u001b[34mfir_par\u001b[m\u001b[m              \u001b[34msec_par\u001b[m\u001b[m\n",
      "README.md            \u001b[34mjson\u001b[m\u001b[m                 test.csv\n",
      "\u001b[34mconcat_p\u001b[m\u001b[m             \u001b[34mmetadata\u001b[m\u001b[m             \u001b[34mtranscripts_csv\u001b[m\u001b[m\n",
      "data_vis.Rmd         \u001b[34mneurosky_polar_data\u001b[m\u001b[m  \u001b[34mtranscripts_csv_2\u001b[m\u001b[m\n",
      "\u001b[34memotion_annotations\u001b[m\u001b[m  preprocess_csv.ipynb \u001b[34mtranscripts_csv_3\u001b[m\u001b[m\n",
      "example.xlsx         preprocess_eeg.ipynb\n"
     ]
    }
   ],
   "source": [
    "!ls"
   ]
  },
  {
   "cell_type": "code",
   "execution_count": 34,
   "id": "de8f62c8-f10a-4811-95fc-532f0e97229a",
   "metadata": {},
   "outputs": [],
   "source": [
    "os.chdir('../')"
   ]
  },
  {
   "cell_type": "code",
   "execution_count": 60,
   "id": "0da21af4-dc71-4764-bc19-9c7bdb436632",
   "metadata": {
    "tags": []
   },
   "outputs": [
    {
     "ename": "TypeError",
     "evalue": "object of type '_iLocIndexer' has no len()",
     "output_type": "error",
     "traceback": [
      "\u001b[0;31m---------------------------------------------------------------------------\u001b[0m",
      "\u001b[0;31mTypeError\u001b[0m                                 Traceback (most recent call last)",
      "\u001b[0;32m/var/folders/70/s03t_xm53wq9db1vxd6l5d8c0000gn/T/ipykernel_67410/2090120.py\u001b[0m in \u001b[0;36m<module>\u001b[0;34m\u001b[0m\n\u001b[1;32m     14\u001b[0m             \u001b[0mdf\u001b[0m \u001b[0;34m=\u001b[0m \u001b[0mpd\u001b[0m\u001b[0;34m.\u001b[0m\u001b[0mDataFrame\u001b[0m\u001b[0;34m(\u001b[0m\u001b[0;34m)\u001b[0m\u001b[0;34m\u001b[0m\u001b[0;34m\u001b[0m\u001b[0m\n\u001b[1;32m     15\u001b[0m \u001b[0;34m\u001b[0m\u001b[0m\n\u001b[0;32m---> 16\u001b[0;31m             \u001b[0;32mfor\u001b[0m \u001b[0mi\u001b[0m \u001b[0;32min\u001b[0m \u001b[0mrange\u001b[0m\u001b[0;34m(\u001b[0m\u001b[0;36m0\u001b[0m\u001b[0;34m,\u001b[0m \u001b[0mlen\u001b[0m\u001b[0;34m(\u001b[0m\u001b[0mread\u001b[0m\u001b[0;34m.\u001b[0m\u001b[0miloc\u001b[0m\u001b[0;34m(\u001b[0m\u001b[0;34m)\u001b[0m\u001b[0;34m)\u001b[0m\u001b[0;34m)\u001b[0m\u001b[0;34m:\u001b[0m\u001b[0;34m\u001b[0m\u001b[0;34m\u001b[0m\u001b[0m\n\u001b[0m\u001b[1;32m     17\u001b[0m                 \u001b[0mprint\u001b[0m\u001b[0;34m(\u001b[0m\u001b[0mi\u001b[0m\u001b[0;34m[\u001b[0m\u001b[0;36m0\u001b[0m\u001b[0;34m]\u001b[0m\u001b[0;34m)\u001b[0m\u001b[0;34m\u001b[0m\u001b[0;34m\u001b[0m\u001b[0m\n\u001b[1;32m     18\u001b[0m                 \u001b[0;32mbreak\u001b[0m\u001b[0;34m\u001b[0m\u001b[0;34m\u001b[0m\u001b[0m\n",
      "\u001b[0;31mTypeError\u001b[0m: object of type '_iLocIndexer' has no len()"
     ]
    }
   ],
   "source": [
    "directory = 'neurosky_polar_data'\n",
    "df = pd.DataFrame()\n",
    "for num in sorted(os.listdir(directory)):\n",
    "    p = os.path.join(directory, num)\n",
    "    #print(num)\n",
    "    for eeg in os.listdir(p):\n",
    "        #print(eeg)\n",
    "        if 'Brain' in eeg:\n",
    "            os.chdir(p)\n",
    "            read = pd.read_csv(eeg)\n",
    "            os.chdir('../../')\n",
    "    #print(read)\n",
    "    #print(read.iloc[:, 0].astype)\n",
    "            df = pd.DataFrame()\n",
    "        \n",
    "            for i in read:\n",
    "                print\n",
    "    break\n",
    "    \n",
    "    \n",
    "    "
   ]
  },
  {
   "cell_type": "code",
   "execution_count": null,
   "id": "d62972cb-4559-4479-8b49-cf28a2d9ad58",
   "metadata": {},
   "outputs": [],
   "source": []
  }
 ],
 "metadata": {
  "kernelspec": {
   "display_name": "Python 3 (ipykernel)",
   "language": "python",
   "name": "python3"
  },
  "language_info": {
   "codemirror_mode": {
    "name": "ipython",
    "version": 3
   },
   "file_extension": ".py",
   "mimetype": "text/x-python",
   "name": "python",
   "nbconvert_exporter": "python",
   "pygments_lexer": "ipython3",
   "version": "3.9.7"
  }
 },
 "nbformat": 4,
 "nbformat_minor": 5
}
