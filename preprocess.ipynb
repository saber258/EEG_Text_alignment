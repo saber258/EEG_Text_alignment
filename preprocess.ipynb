{
 "cells": [
  {
   "cell_type": "code",
   "execution_count": 1,
   "id": "4e244b91-4c3b-41d5-9eb6-44f6b36c3d9f",
   "metadata": {},
   "outputs": [],
   "source": [
    "import pandas as pd\n",
    "import os\n",
    "from sklearn.model_selection import train_test_split\n",
    "import numpy as np"
   ]
  },
  {
   "cell_type": "code",
   "execution_count": 2,
   "id": "6adc213e-07a4-41f6-ba94-24d3728b0878",
   "metadata": {},
   "outputs": [],
   "source": [
    "# --- transcripts\n",
    "\n",
    "df = pd.read_csv('full_transcript_concat.csv')\n",
    "\n",
    "df['arousal_trans'] = df['arousal_trans'].round()\n",
    "df['arousal2_trans'] = df['arousal2_trans'].round()\n",
    "\n",
    "df['valence_trans'] = df['valence_trans'].round()\n",
    "df['valence2_trans'] = df['valence2_trans'].round()\n",
    "\n",
    "df['happy_trans'] = df['happy_trans'].round()\n",
    "df['happy2_trans'] = df['happy2_trans'].round()\n",
    "\n",
    "df['angry_trans'] = df['angry_trans'].round()\n",
    "df['angry2_trans'] = df['angry2_trans'].round()\n",
    "\n",
    "df['nervous_trans'] = df['nervous_trans'].round()\n",
    "df['nervous2_trans'] = df['nervous2_trans'].round()\n",
    "\n",
    "df['sad_trans'] = df['sad_trans'].round()\n",
    "df['sad2_trans'] = df['sad2_trans'].round()"
   ]
  },
  {
   "cell_type": "code",
   "execution_count": 3,
   "id": "b5d0930f-6e0c-45fc-9030-d26a5b674bff",
   "metadata": {},
   "outputs": [],
   "source": [
    "# --- eeg\n",
    "\n",
    "df2 = pd.read_csv('normeeg_concat.csv')\n",
    "\n",
    "df2['arousal'] = df2['arousal'].round()\n",
    "df2['valence'] = df2['valence'].round()\n",
    "\n",
    "df2['happy'] = df2['happy'].round()\n",
    "df2['angry'] = df2['angry'].round()\n",
    "\n",
    "df2['nervous'] = df2['nervous'].round()\n",
    "df2['sad'] = df2['sad'].round()\n",
    "\n",
    "df2[['arousal', 'valence', 'happy', 'angry', 'nervous', 'sad']] = df2[['arousal', 'valence', 'happy', 'angry', 'nervous', 'sad']].astype(int)"
   ]
  },
  {
   "cell_type": "code",
   "execution_count": 4,
   "id": "17fdbe12-968b-4f53-8d0d-874372bd1a47",
   "metadata": {
    "collapsed": true,
    "jupyter": {
     "outputs_hidden": true
    },
    "tags": []
   },
   "outputs": [
    {
     "name": "stdout",
     "output_type": "stream",
     "text": [
      "1.0    1231\n",
      "2.0     608\n",
      "3.0      24\n",
      "Name: happy_trans, dtype: int64 1.0    1138\n",
      "2.0     682\n",
      "3.0      43\n",
      "Name: happy2_trans, dtype: int64 3.0    1201\n",
      "2.0     406\n",
      "4.0     255\n",
      "1.0       1\n",
      "Name: arousal_trans, dtype: int64 3.0    1327\n",
      "2.0     334\n",
      "4.0     202\n",
      "Name: arousal2_trans, dtype: int64 3.0    1452\n",
      "4.0     239\n",
      "2.0     172\n",
      "Name: valence_trans, dtype: int64 3.0    1574\n",
      "4.0     152\n",
      "2.0     131\n",
      "5.0       6\n",
      "Name: valence2_trans, dtype: int64 1.0    1491\n",
      "2.0     370\n",
      "3.0       2\n",
      "Name: angry_trans, dtype: int64 1.0    1716\n",
      "2.0     147\n",
      "Name: angry2_trans, dtype: int64 1.0    907\n",
      "2.0    890\n",
      "3.0     66\n",
      "Name: nervous_trans, dtype: int64 1.0    950\n",
      "2.0    826\n",
      "3.0     87\n",
      "Name: nervous2_trans, dtype: int64 1.0    1803\n",
      "2.0      60\n",
      "Name: sad_trans, dtype: int64 1.0    1792\n",
      "2.0      71\n",
      "Name: sad2_trans, dtype: int64\n"
     ]
    }
   ],
   "source": [
    "print(df['happy_trans'].value_counts(), df['happy2_trans'].value_counts(), df['arousal_trans'].value_counts(), df['arousal2_trans'].value_counts(),\n",
    "      df['valence_trans'].value_counts(), df['valence2_trans'].value_counts(), df['angry_trans'].value_counts(), df['angry2_trans'].value_counts(),\n",
    "      df['nervous_trans'].value_counts(), df['nervous2_trans'].value_counts(), df['sad_trans'].value_counts(), df['sad2_trans'].value_counts())"
   ]
  },
  {
   "cell_type": "code",
   "execution_count": 5,
   "id": "d93e7736-8a89-4f9d-bf70-44eda00e0a73",
   "metadata": {
    "collapsed": true,
    "jupyter": {
     "outputs_hidden": true
    },
    "tags": []
   },
   "outputs": [
    {
     "name": "stdout",
     "output_type": "stream",
     "text": [
      "3    2303\n",
      "2     676\n",
      "4     416\n",
      "1       1\n",
      "Name: arousal, dtype: int64 3    2729\n",
      "4     380\n",
      "2     281\n",
      "5       6\n",
      "Name: valence, dtype: int64 1    2139\n",
      "2    1190\n",
      "3      67\n",
      "Name: happy, dtype: int64 1    2955\n",
      "2     439\n",
      "3       2\n",
      "Name: angry, dtype: int64 1    1656\n",
      "2    1591\n",
      "3     149\n",
      "Name: nervous, dtype: int64 1    3265\n",
      "2     131\n",
      "Name: sad, dtype: int64\n"
     ]
    }
   ],
   "source": [
    "print(df2['arousal'].value_counts(), df2['valence'].value_counts(), df2['happy'].value_counts(), df2['angry'].value_counts(), df2['nervous'].value_counts(), df2['sad'].value_counts())"
   ]
  },
  {
   "cell_type": "code",
   "execution_count": 6,
   "id": "70ed2382-bdbe-48ff-a707-39817ddc6c2f",
   "metadata": {},
   "outputs": [
    {
     "name": "stdout",
     "output_type": "stream",
     "text": [
      "1863\n",
      "3396\n"
     ]
    }
   ],
   "source": []
  },
  {
   "cell_type": "code",
   "execution_count": null,
   "id": "780a8960-10c3-4d8c-956a-934c3a20e606",
   "metadata": {},
   "outputs": [],
   "source": []
  }
 ],
 "metadata": {
  "kernelspec": {
   "display_name": "Python 3 (ipykernel)",
   "language": "python",
   "name": "python3"
  },
  "language_info": {
   "codemirror_mode": {
    "name": "ipython",
    "version": 3
   },
   "file_extension": ".py",
   "mimetype": "text/x-python",
   "name": "python",
   "nbconvert_exporter": "python",
   "pygments_lexer": "ipython3",
   "version": "3.9.7"
  }
 },
 "nbformat": 4,
 "nbformat_minor": 5
}
