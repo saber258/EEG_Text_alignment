{
 "cells": [
  {
   "cell_type": "code",
   "execution_count": 1,
   "id": "a47d1aab-527d-487e-bd19-21454cd2cb5d",
   "metadata": {},
   "outputs": [],
   "source": [
    "import pandas as pd\n",
    "import os"
   ]
  },
  {
   "cell_type": "code",
   "execution_count": 105,
   "id": "fbc4f92c-b3ef-478b-9a9a-525fb1106903",
   "metadata": {},
   "outputs": [
    {
     "name": "stdout",
     "output_type": "stream",
     "text": [
      "CMUSAIL.Rproj        \u001b[34mfir_par\u001b[m\u001b[m              \u001b[34msec_par\u001b[m\u001b[m\n",
      "README.md            \u001b[34mjson\u001b[m\u001b[m                 test.csv\n",
      "\u001b[34mconcat_p\u001b[m\u001b[m             \u001b[34mmetadata\u001b[m\u001b[m             \u001b[34mtranscripts_csv\u001b[m\u001b[m\n",
      "data_vis.Rmd         \u001b[34mneurosky_polar_data\u001b[m\u001b[m  \u001b[34mtranscripts_csv_2\u001b[m\u001b[m\n",
      "\u001b[34memotion_annotations\u001b[m\u001b[m  preprocess_csv.ipynb \u001b[34mtranscripts_csv_3\u001b[m\u001b[m\n",
      "example.xlsx         preprocess_eeg.ipynb\n"
     ]
    }
   ],
   "source": [
    "!ls"
   ]
  },
  {
   "cell_type": "code",
   "execution_count": 34,
   "id": "de8f62c8-f10a-4811-95fc-532f0e97229a",
   "metadata": {},
   "outputs": [],
   "source": [
    "os.chdir('../')"
   ]
  },
  {
   "cell_type": "code",
   "execution_count": 183,
   "id": "0da21af4-dc71-4764-bc19-9c7bdb436632",
   "metadata": {},
   "outputs": [],
   "source": [
    "directory = 'neurosky_polar_data'\n",
    "df = pd.DataFrame()\n",
    "for num in sorted(os.listdir(directory)):\n",
    "    p = os.path.join(directory, num)\n",
    "    #print(num)\n",
    "    for eeg in os.listdir(p):\n",
    "        #print(eeg)\n",
    "        if 'Brain' in eeg:\n",
    "            os.chdir(p)\n",
    "            read = pd.read_csv(eeg)\n",
    "            os.chdir('../../')\n",
    "    #print(read)\n",
    "    #print(read.iloc[:, 0].astype)\n",
    "#             df = pd.DataFrame()\n",
    "            \n",
    "#             #read1 = read.iloc()\n",
    "            \n",
    "#             newcol = [0]\n",
    "            \n",
    "#             for i in read.iloc():\n",
    "#                 newcol = [0]\n",
    "                \n",
    "#                 print(i[0])\n",
    "#                 print(i[0])\n",
    "#                 #print(read['timestamp'])\n",
    "                \n",
    "#                 #break\n",
    "            read['new_timestamp'] = read['timestamp'].shift(1)\n",
    "            read['new_timestamp'] = read['new_timestamp'].fillna(0)\n",
    "    \n",
    "            read['trans_time'] = (read['timestamp'] - read['new_timestamp'])/1000\n",
    "            read['trans_time'].iloc()[0] = 0\n",
    "            #print(read['trans_time'].iloc()[0])\n",
    "            #read['sum'] = read['trans_time'].value.cumsum()\n",
    "            for i in read.iloc[:, -1]:\n",
    "                #print(i)\n",
    "                read['new_trans_time'] = read['trans_time'].cumsum()\n",
    "                #print(read)\n",
    "                df = pd.DataFrame()\n",
    "                df=pd.concat([df, read])\n",
    "                \n",
    "            \n",
    "            \n",
    "                    \n",
    "            \n",
    "            df.to_csv('BrainWave_new.csv', sep = ',', index = False)\n",
    "    break\n",
    "    \n",
    "    \n",
    "    "
   ]
  },
  {
   "cell_type": "code",
   "execution_count": null,
   "id": "11179608-4b07-49d1-91f7-c15277776631",
   "metadata": {},
   "outputs": [],
   "source": []
  }
 ],
 "metadata": {
  "kernelspec": {
   "display_name": "Python 3 (ipykernel)",
   "language": "python",
   "name": "python3"
  },
  "language_info": {
   "codemirror_mode": {
    "name": "ipython",
    "version": 3
   },
   "file_extension": ".py",
   "mimetype": "text/x-python",
   "name": "python",
   "nbconvert_exporter": "python",
   "pygments_lexer": "ipython3",
   "version": "3.9.7"
  }
 },
 "nbformat": 4,
 "nbformat_minor": 5
}
