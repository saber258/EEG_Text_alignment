{
 "cells": [
  {
   "cell_type": "code",
   "execution_count": 1,
   "id": "956511ef-4f7b-4dee-a98d-e54933cc2ced",
   "metadata": {},
   "outputs": [],
   "source": [
    "import pandas as pd\n",
    "import os\n",
    "import pathlib"
   ]
  },
  {
   "cell_type": "code",
   "execution_count": 2,
   "id": "b5ffe81f-4f76-4882-bb51-41d80108a3b4",
   "metadata": {},
   "outputs": [
    {
     "name": "stdout",
     "output_type": "stream",
     "text": [
      "README.md            \u001b[34mfir_par\u001b[m\u001b[m              test.csv\n",
      "\u001b[34mconcat_p\u001b[m\u001b[m             \u001b[34mjson\u001b[m\u001b[m                 \u001b[34mtranscripts_csv\u001b[m\u001b[m\n",
      "\u001b[34memotion_annotations\u001b[m\u001b[m  preprocess_csv.ipynb \u001b[34mtranscripts_csv_2\u001b[m\u001b[m\n",
      "example.xlsx         \u001b[34msec_par\u001b[m\u001b[m              \u001b[34mtranscripts_csv_3\u001b[m\u001b[m\n"
     ]
    }
   ],
   "source": [
    "!ls"
   ]
  },
  {
   "cell_type": "code",
   "execution_count": null,
   "id": "7d884c3b-a00c-462f-9726-1ccbb4f7268f",
   "metadata": {},
   "outputs": [],
   "source": [
    "df_p1_p2 = pd.read_csv('transcripts_csv/p1.p2.m4a-20220330163422.csv')\n",
    "df_p1_p2"
   ]
  },
  {
   "cell_type": "code",
   "execution_count": null,
   "id": "674013d4-9e83-45d8-ac7a-c72e8c06c518",
   "metadata": {},
   "outputs": [],
   "source": [
    "df_p1_self = pd.read_csv('emotion_annotations/self_annotations/P1.self.csv')\n",
    "df_p1_self"
   ]
  },
  {
   "cell_type": "code",
   "execution_count": null,
   "id": "ba7a0776-e448-4d37-bcad-b675bcdc654d",
   "metadata": {},
   "outputs": [],
   "source": [
    "df_p2_self = pd.read_csv('emotion_annotations/self_annotations/P2.self.csv')\n",
    "df_p2_self"
   ]
  },
  {
   "cell_type": "code",
   "execution_count": null,
   "id": "803e697b-7447-4b14-b35e-d1ef4609e711",
   "metadata": {},
   "outputs": [],
   "source": [
    "df_p1_p2_self = pd.concat([df_p1_self, df_p2_self], axis=1)\n",
    "df_p1_p2_self.to_csv(\"p31_p32_self.csv\", sep=',', index=False)"
   ]
  },
  {
   "cell_type": "code",
   "execution_count": null,
   "id": "6d7be2e0-b376-4450-881d-92a492e494c7",
   "metadata": {},
   "outputs": [],
   "source": [
    "test = pd.read_csv('test.csv')\n",
    "test"
   ]
  },
  {
   "cell_type": "code",
   "execution_count": null,
   "id": "296f30d9-4345-43ca-b741-be14b5758cfb",
   "metadata": {},
   "outputs": [],
   "source": [
    "print(test['results/alternatives/0/confidence'])"
   ]
  },
  {
   "cell_type": "code",
   "execution_count": null,
   "id": "563ef857-b1c5-4420-a3f7-6fca80bca191",
   "metadata": {},
   "outputs": [],
   "source": [
    "!ls"
   ]
  },
  {
   "cell_type": "code",
   "execution_count": null,
   "id": "8319a2bb-e21b-4481-a9c3-c18914d79183",
   "metadata": {},
   "outputs": [],
   "source": [
    "os.getcwd()"
   ]
  },
  {
   "cell_type": "code",
   "execution_count": null,
   "id": "86bf0496-c0b0-42e5-b8d4-af97aef1591c",
   "metadata": {},
   "outputs": [],
   "source": [
    "os.chdir('../')"
   ]
  },
  {
   "cell_type": "code",
   "execution_count": null,
   "id": "d6853af6-a4bb-4567-bc61-eda6e23b8629",
   "metadata": {
    "tags": []
   },
   "outputs": [],
   "source": [
    "transcripts_csv_3 = 'transcripts_csv_3'\n",
    "concat_p = 'concat_p'\n",
    "\n",
    "csv_num = 1\n",
    "\n",
    "    \n",
    "    \n",
    "for csv in sorted(os.listdir(transcripts_csv_3)):\n",
    "\n",
    "    if '.csv' in csv:\n",
    "\n",
    "        os.chdir(transcripts_csv_3)\n",
    "\n",
    "        read = pd.read_csv(csv)\n",
    "\n",
    "        os.chdir('../')\n",
    "\n",
    "                \n",
    "        \n",
    "    for csv_1 in sorted(concat_p):\n",
    "\n",
    "        #os.chdir('concat_p')\n",
    "\n",
    "        if '.csv' in csv_1:\n",
    "\n",
    "            os.chdir(concat_p)\n",
    "\n",
    "            read1 = pd.read_csv(csv_1)\n",
    "\n",
    "            os.chdir('../')\n",
    "\n",
    "            \n",
    "\n",
    "            #os.chdir('../')\n",
    "\n",
    "        df = pd.concat([read, read1], axis=1)\n",
    "        \n",
    "\n",
    "\n",
    "        os.chdir('concat_p_transcript')\n",
    "\n",
    "        df.to_csv(f'p{csv_num}.csv', sep=',', index=False)\n",
    "\n",
    "\n",
    "        csv_num += 2\n",
    "\n",
    "        os.chdir('../')\n",
    "        \n",
    "        break\n",
    "\n",
    "    \n",
    "        "
   ]
  },
  {
   "cell_type": "code",
   "execution_count": null,
   "id": "dd2c54ed-5539-4413-8dde-88220d9b6373",
   "metadata": {},
   "outputs": [],
   "source": [
    "!ls"
   ]
  },
  {
   "cell_type": "code",
   "execution_count": null,
   "id": "e762a0e8-7300-4a9c-a531-d84ab9f4384a",
   "metadata": {
    "tags": []
   },
   "outputs": [],
   "source": [
    "csv_num = 1\n",
    "for i in sorted(os.listdir('transcripts_csv_3')):\n",
    "    \n",
    "    #print(i)\n",
    "    \n",
    "    #if '.csv' in i:\n",
    "    if i == 'p1.p2.m4a-20220330163422.csv':\n",
    "        \n",
    "        \n",
    "\n",
    "        os.chdir('transcripts_csv_3')\n",
    "\n",
    "        read = pd.read_csv(i)\n",
    "        \n",
    "        read[\"results/channelTag\"] = pd.to_numeric(read[\"results/channelTag\"], errors='coerce')\n",
    "        \n",
    "        os.chdir('../')\n",
    "\n",
    "        #print(read)\n",
    "\n",
    "\n",
    "        for j in sorted(os.listdir('concat_p')):\n",
    "\n",
    "            if 'p1.p2_self.csv' in j:\n",
    "\n",
    "                os.chdir('concat_p')\n",
    "\n",
    "                read1 = pd.read_csv(j)\n",
    "\n",
    "                os.chdir('../')\n",
    "\n",
    "                #print(read1)\n",
    "\n",
    "                #break\n",
    "                \n",
    "                df = pd.DataFrame()\n",
    "\n",
    "                new_df = read1.iloc[:, 0:23]\n",
    "                new_df = pd.DataFrame(new_df)\n",
    "\n",
    "                new2_df = read1.iloc[:, 23:]\n",
    "                new2_df = pd.DataFrame(new2_df)\n",
    "                \n",
    "#                 k = read.iloc()\n",
    "                \n",
    "#                 l = read1.iloc()\n",
    "                \n",
    "                \n",
    "#                 if k[:, 4] < l[:, 0]\n",
    "                \n",
    "                \n",
    "                for k in read.iloc():\n",
    "                    #l = read1.iloc()\n",
    "                    for l in read1.iloc():\n",
    "\n",
    "                        if ((k[4] < l[0]).all() & (k != k[6].max()).all()):\n",
    "\n",
    "                            #df = pd.concat([read, new_df], axis = 1)\n",
    "                            \n",
    "                            \n",
    "                            \n",
    "                            \n",
    "\n",
    "                        elif ((k[4] < l[23]).all() & (k == k[6].max()).all()):\n",
    "\n",
    "                            #df = pd.concat([read, new2_df], axis = 1)\n",
    "                            \n",
    "                            \n",
    "        os.chdir('concat_p_transcript')\n",
    "        \n",
    "        df.to_csv(f'p{csv_num}.csv', sep=',', index = False)\n",
    "        \n",
    "        csv_num +=2\n",
    "        \n",
    "        os.chdir('../')\n",
    "        \n",
    "        #create variable/col that tracks both part time "
   ]
  },
  {
   "cell_type": "code",
   "execution_count": null,
   "id": "a98529b6-0abc-4fb4-a753-be692291a32e",
   "metadata": {
    "tags": []
   },
   "outputs": [],
   "source": [
    "for i in sorted(os.listdir('transcripts_csv_3')):\n",
    "\n",
    "    if '.csv' in i:\n",
    "\n",
    "        os.chdir('transcripts_csv_3')\n",
    "\n",
    "        read = pd.read_csv(i)\n",
    "        \n",
    "        print(read.iloc[:, 4])\n",
    "        \n",
    "        os.chdir('../')"
   ]
  },
  {
   "cell_type": "code",
   "execution_count": null,
   "id": "9f846f5c-3d42-4317-90ff-1dcc35d37066",
   "metadata": {
    "tags": []
   },
   "outputs": [],
   "source": [
    "!ls"
   ]
  },
  {
   "cell_type": "code",
   "execution_count": null,
   "id": "4abdceb8-ed2f-4b2a-9bcf-5d08012de6e6",
   "metadata": {},
   "outputs": [],
   "source": [
    "df = pd.read_csv('transcripts_csv_3/p1.p2.m4a-20220330163422.csv')"
   ]
  },
  {
   "cell_type": "code",
   "execution_count": null,
   "id": "8f975d6e-1141-4b0f-b865-16eebc1e2f39",
   "metadata": {
    "tags": []
   },
   "outputs": [],
   "source": [
    "for i in df.iloc():\n",
    "    print(i)"
   ]
  },
  {
   "cell_type": "code",
   "execution_count": null,
   "id": "1d8031c0-3d1b-43d5-b5e6-cf7aafb943b1",
   "metadata": {},
   "outputs": [],
   "source": [
    "k = df.iloc()"
   ]
  },
  {
   "cell_type": "code",
   "execution_count": null,
   "id": "f241bd33-4d13-4ec2-88b0-8a628d94fad0",
   "metadata": {},
   "outputs": [],
   "source": [
    "k[:, 4][0]"
   ]
  },
  {
   "cell_type": "code",
   "execution_count": null,
   "id": "a6ce70ba-afc9-4466-a839-8839ad53149c",
   "metadata": {
    "tags": []
   },
   "outputs": [],
   "source": [
    "for i in df.iloc():\n",
    "    if (i == 2):\n",
    "        print(i)"
   ]
  },
  {
   "cell_type": "code",
   "execution_count": null,
   "id": "c338277f-aa30-49c2-ad31-649b5c67a8c5",
   "metadata": {},
   "outputs": [],
   "source": [
    "read1 = pd.read_csv('concat_p/p1.p2_self.csv')\n",
    "\n",
    "new_df = read1.iloc[:, 0:23]\n",
    "\n",
    "new_df = pd.DataFrame(new_df)"
   ]
  },
  {
   "cell_type": "code",
   "execution_count": null,
   "id": "6034fc69-25e6-4c79-ad81-7a817c2d121b",
   "metadata": {},
   "outputs": [],
   "source": [
    "new = pd.DataFrame()"
   ]
  },
  {
   "cell_type": "code",
   "execution_count": null,
   "id": "ba09f036-02b2-4b11-94a8-4aec872f1a09",
   "metadata": {},
   "outputs": [],
   "source": [
    "for i in range(len(new_df)):\n",
    "    \n",
    "    new = new_df.loc[i]\n",
    "    break"
   ]
  },
  {
   "cell_type": "code",
   "execution_count": null,
   "id": "8c8eea55-ba0a-4e0c-9fe9-04fd194782b3",
   "metadata": {
    "tags": []
   },
   "outputs": [],
   "source": [
    "new"
   ]
  },
  {
   "cell_type": "code",
   "execution_count": null,
   "id": "c8d09cc5-d033-47db-a49a-d9f367632957",
   "metadata": {
    "tags": []
   },
   "outputs": [],
   "source": [
    "for i in df.iloc():\n",
    "    i[6] = pd.to_numeric(i[6], errors='coerce')\n",
    "    print(i[6].min())"
   ]
  },
  {
   "cell_type": "code",
   "execution_count": null,
   "id": "b6acf384-f6bf-4e97-b8b7-709998dfe61e",
   "metadata": {},
   "outputs": [],
   "source": [
    "df[\"results/channelTag\"] = pd.to_numeric(df[\"results/channelTag\"], errors='coerce')"
   ]
  },
  {
   "cell_type": "code",
   "execution_count": null,
   "id": "fbc42f7a-09b3-4c3d-be61-13561d2fd06a",
   "metadata": {},
   "outputs": [],
   "source": [
    "df['results/channelTag'].astype"
   ]
  },
  {
   "cell_type": "code",
   "execution_count": null,
   "id": "2690c0fa-143e-4940-95eb-e8729eeb482c",
   "metadata": {
    "tags": []
   },
   "outputs": [],
   "source": [
    "csv_num = 2\n",
    "\n",
    "for i in sorted(os.listdir('transcripts_csv_3')):\n",
    "    \n",
    "    #print(i)\n",
    "    \n",
    "    if '.csv' in i:\n",
    "    #if i == 'p3.p4.m4a-20220330163422.csv':\n",
    "        \n",
    "        \n",
    "\n",
    "        os.chdir('transcripts_csv_3')\n",
    "\n",
    "        read = pd.read_csv(i)\n",
    "        \n",
    "        read = read[read['reult/alternative/0/word/0/tartTime'].notna()]\n",
    "        \n",
    "        read[\"results/channelTag\"] = pd.to_numeric(read[\"results/channelTag\"], errors='coerce')\n",
    "        \n",
    "        os.chdir('../')\n",
    "        \n",
    "#         for j in range(len(read)):\n",
    "            \n",
    "#             readj = read.iloc()\n",
    "            \n",
    "#             if readj[6].min():\n",
    "                \n",
    "#                 print(read.iloc[j, 6])\n",
    "        \n",
    "        #readmin = read['results/channelTag'].min()\n",
    "        readmax = read['results/channelTag'].max()\n",
    "        \n",
    "        df = pd.DataFrame()\n",
    "        \n",
    "        for j in read.iloc():\n",
    "            \n",
    "            #if j[6] == readmin:\n",
    "            if j[6] == readmax:\n",
    "                \n",
    "                #print(j[6])\n",
    "                newcol = []\n",
    "                \n",
    "                newcol.append(j)\n",
    "                \n",
    "                #df = pd.concat([df, newcol], axis = 0) \n",
    "                \n",
    "                #df = pd.DataFrame(newcol)\n",
    "                #df = pd.concat([df, df], axis = 0) \n",
    "                df = df.append(newcol)\n",
    "                print(df)\n",
    "                #print(df['results/alternatives/0/confidence'])\n",
    "                \n",
    "                \n",
    "                \n",
    "            \n",
    "            #readmin = read['results/channelTag'].min()\n",
    "            #print(read['results/channelTag'].idxmin())\n",
    "            #print(read[ read['results/channelTag'] == read['results/channelTag'].min() ].index)\n",
    "            #print(read[ read['results/channelTag'] == df['results/channelTag'].min() ])\n",
    "                \n",
    "        os.chdir('sec_par')\n",
    "\n",
    "        df.to_csv(f'p{csv_num}a.csv', sep = ',', index = False)\n",
    "\n",
    "        csv_num +=2\n",
    "        \n",
    "        os.chdir('../')\n",
    "                \n",
    "        \n",
    "        #create variable/col that tracks both part time \n",
    "           \n",
    "            \n",
    "                    \n",
    "\n",
    "            "
   ]
  },
  {
   "cell_type": "code",
   "execution_count": null,
   "id": "3b8641c9-f38e-44bf-8232-219549b7c780",
   "metadata": {},
   "outputs": [],
   "source": [
    "read = pd.read_csv('transcripts_csv_3/p1.p2.m4a-20220330163422.csv')\n",
    "read['results/channelTag'].min()"
   ]
  },
  {
   "cell_type": "code",
   "execution_count": null,
   "id": "4abdb4d1-94a2-4782-92cd-6ec371dafc53",
   "metadata": {},
   "outputs": [],
   "source": [
    "read['reult/alternative/0/word/0/tartTime'].dropna()"
   ]
  },
  {
   "cell_type": "code",
   "execution_count": null,
   "id": "c1d9f673-8a86-4960-9657-416a522a70ad",
   "metadata": {},
   "outputs": [],
   "source": [
    "df['reult/alternative/0/word/0/tartTime'].isnull().values.any()"
   ]
  },
  {
   "cell_type": "code",
   "execution_count": null,
   "id": "6bb20c60-ae6d-420f-91c0-d9be7d9064bf",
   "metadata": {},
   "outputs": [],
   "source": [
    "df['reult/alternative/0/word/0/tartTime'].isnull().sum()"
   ]
  },
  {
   "cell_type": "code",
   "execution_count": null,
   "id": "7d6393ae-b301-4aab-b19b-63c5dca1f9ac",
   "metadata": {},
   "outputs": [],
   "source": [
    "df = df[df['reult/alternative/0/word/0/tartTime'].notna()]"
   ]
  },
  {
   "cell_type": "code",
   "execution_count": null,
   "id": "0e7a5203-46fa-4c2d-9353-156f0a74ac29",
   "metadata": {},
   "outputs": [],
   "source": [
    "df['reult/alternative/0/word/0/tartTime'].isnull().sum()"
   ]
  },
  {
   "cell_type": "code",
   "execution_count": null,
   "id": "28102ae6-326d-4f13-8eb4-20575b1660e4",
   "metadata": {},
   "outputs": [],
   "source": []
  }
 ],
 "metadata": {
  "kernelspec": {
   "display_name": "Python 3 (ipykernel)",
   "language": "python",
   "name": "python3"
  },
  "language_info": {
   "codemirror_mode": {
    "name": "ipython",
    "version": 3
   },
   "file_extension": ".py",
   "mimetype": "text/x-python",
   "name": "python",
   "nbconvert_exporter": "python",
   "pygments_lexer": "ipython3",
   "version": "3.9.7"
  }
 },
 "nbformat": 4,
 "nbformat_minor": 5
}
